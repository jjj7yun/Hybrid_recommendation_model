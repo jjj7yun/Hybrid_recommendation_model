{
 "cells": [
  {
   "cell_type": "code",
   "execution_count": 1,
   "id": "13c9714e",
   "metadata": {},
   "outputs": [],
   "source": [
    "from ast import literal_eval"
   ]
  },
  {
   "cell_type": "code",
   "execution_count": 2,
   "id": "18f2bdd2",
   "metadata": {},
   "outputs": [],
   "source": [
    "import pandas as pd\n",
    "import numpy as np\n",
    "import warnings\n",
    "from sklearn.metrics import mean_squared_error\n",
    "from sklearn.metrics import mean_absolute_error\n",
    "warnings.filterwarnings(action='ignore')"
   ]
  },
  {
   "cell_type": "code",
   "execution_count": 3,
   "id": "f8f50d23",
   "metadata": {},
   "outputs": [],
   "source": [
    "datadf=pd.read_csv('./data/책영화리스트_8183.csv')\n",
    "newdf=pd.read_csv('./data/pivot_all.csv')"
   ]
  },
  {
   "cell_type": "code",
   "execution_count": 4,
   "id": "d943ad95",
   "metadata": {},
   "outputs": [
    {
     "data": {
      "text/plain": [
       "8187"
      ]
     },
     "execution_count": 4,
     "metadata": {},
     "output_type": "execute_result"
    }
   ],
   "source": [
    "len(datadf)"
   ]
  },
  {
   "cell_type": "code",
   "execution_count": 5,
   "id": "2e3e3565",
   "metadata": {},
   "outputs": [],
   "source": [
    "del datadf['Unnamed: 0']"
   ]
  },
  {
   "cell_type": "code",
   "execution_count": 6,
   "id": "f733be24",
   "metadata": {},
   "outputs": [],
   "source": [
    "datadf.columns=['title','plot']"
   ]
  },
  {
   "cell_type": "code",
   "execution_count": 7,
   "id": "ac33713c",
   "metadata": {},
   "outputs": [
    {
     "data": {
      "text/plain": [
       "(8183, 2)"
      ]
     },
     "execution_count": 7,
     "metadata": {},
     "output_type": "execute_result"
    }
   ],
   "source": [
    "datadf = datadf[datadf['plot'].notnull()].reset_index(drop=True)\n",
    "datadf.shape"
   ]
  },
  {
   "cell_type": "code",
   "execution_count": 14,
   "id": "6502992c",
   "metadata": {},
   "outputs": [],
   "source": [
    "# keydf=pd.read_csv('./data/keyword_0329.csv')\n",
    "# kk = keydf[['title','rating','vote_count']]\n",
    "# avg=keydf['rating']\n",
    "# vt_cnt=keydf['vote_count']\n",
    "# newdf=pd.merge(pb,kk,left_on='userid', right_on='title', how='left')\n",
    "# newdf.to_csv('./data/pivot_all.csv')"
   ]
  },
  {
   "cell_type": "markdown",
   "id": "7551e972",
   "metadata": {},
   "source": [
    "# 코사인으로 쭉\n"
   ]
  },
  {
   "cell_type": "code",
   "execution_count": null,
   "id": "c88cc2c4",
   "metadata": {},
   "outputs": [],
   "source": []
  },
  {
   "cell_type": "code",
   "execution_count": null,
   "id": "e2646548",
   "metadata": {},
   "outputs": [],
   "source": []
  },
  {
   "cell_type": "code",
   "execution_count": 804,
   "id": "a4b31762",
   "metadata": {},
   "outputs": [
    {
     "data": {
      "text/plain": [
       "600"
      ]
     },
     "execution_count": 804,
     "metadata": {},
     "output_type": "execute_result"
    }
   ],
   "source": [
    "len(book)"
   ]
  },
  {
   "cell_type": "code",
   "execution_count": 671,
   "id": "1308ed0e",
   "metadata": {},
   "outputs": [
    {
     "data": {
      "text/html": [
       "<div>\n",
       "<style scoped>\n",
       "    .dataframe tbody tr th:only-of-type {\n",
       "        vertical-align: middle;\n",
       "    }\n",
       "\n",
       "    .dataframe tbody tr th {\n",
       "        vertical-align: top;\n",
       "    }\n",
       "\n",
       "    .dataframe thead th {\n",
       "        text-align: right;\n",
       "    }\n",
       "</style>\n",
       "<table border=\"1\" class=\"dataframe\">\n",
       "  <thead>\n",
       "    <tr style=\"text-align: right;\">\n",
       "      <th></th>\n",
       "      <th>Unnamed: 0</th>\n",
       "      <th>title</th>\n",
       "      <th>author</th>\n",
       "      <th>plot</th>\n",
       "    </tr>\n",
       "  </thead>\n",
       "  <tbody>\n",
       "    <tr>\n",
       "      <th>0</th>\n",
       "      <td>0</td>\n",
       "      <td>페스트</td>\n",
       "      <td>알베르 카뮈</td>\n",
       "      <td>극한의 절망 속에서도 억누를 수 없는 희망의 의지!20세기 실존주의 문학의 대표 작...</td>\n",
       "    </tr>\n",
       "    <tr>\n",
       "      <th>1</th>\n",
       "      <td>1</td>\n",
       "      <td>페스트</td>\n",
       "      <td>알베르 카뮈</td>\n",
       "      <td>1947년 출간 직후 그해의 비평가상을 수상하고, 2차 세계대전 직후 최대의 걸작이...</td>\n",
       "    </tr>\n",
       "    <tr>\n",
       "      <th>2</th>\n",
       "      <td>2</td>\n",
       "      <td>페스트</td>\n",
       "      <td>페스트</td>\n",
       "      <td>“신 없이 성자는 존재하는가? 20세기 프랑스 문학이 남긴 기념비적인 작품 1947...</td>\n",
       "    </tr>\n",
       "    <tr>\n",
       "      <th>3</th>\n",
       "      <td>3</td>\n",
       "      <td>우리가 빛의 속도로 갈 수 없다면</td>\n",
       "      <td>김초엽</td>\n",
       "      <td>지난겨울까지 바이오센서를 만드는 과학도였던 김초엽 작가는, 이제 소설을 쓴다. 어디...</td>\n",
       "    </tr>\n",
       "    <tr>\n",
       "      <th>4</th>\n",
       "      <td>4</td>\n",
       "      <td>증여론</td>\n",
       "      <td>마르셀 모스</td>\n",
       "      <td>선물 교환에 관한 가장 체계적인 비교 연구서이며, 교환의 유형과 사회적 구조 사이의...</td>\n",
       "    </tr>\n",
       "  </tbody>\n",
       "</table>\n",
       "</div>"
      ],
      "text/plain": [
       "   Unnamed: 0               title  author  \\\n",
       "0           0                 페스트  알베르 카뮈   \n",
       "1           1                 페스트  알베르 카뮈   \n",
       "2           2                 페스트     페스트   \n",
       "3           3  우리가 빛의 속도로 갈 수 없다면     김초엽   \n",
       "4           4                 증여론  마르셀 모스   \n",
       "\n",
       "                                                plot  \n",
       "0  극한의 절망 속에서도 억누를 수 없는 희망의 의지!20세기 실존주의 문학의 대표 작...  \n",
       "1  1947년 출간 직후 그해의 비평가상을 수상하고, 2차 세계대전 직후 최대의 걸작이...  \n",
       "2  “신 없이 성자는 존재하는가? 20세기 프랑스 문학이 남긴 기념비적인 작품 1947...  \n",
       "3  지난겨울까지 바이오센서를 만드는 과학도였던 김초엽 작가는, 이제 소설을 쓴다. 어디...  \n",
       "4  선물 교환에 관한 가장 체계적인 비교 연구서이며, 교환의 유형과 사회적 구조 사이의...  "
      ]
     },
     "execution_count": 671,
     "metadata": {},
     "output_type": "execute_result"
    }
   ],
   "source": [
    "book.head()"
   ]
  },
  {
   "cell_type": "code",
   "execution_count": 672,
   "id": "f07c8581",
   "metadata": {},
   "outputs": [
    {
     "data": {
      "text/plain": [
       "600"
      ]
     },
     "execution_count": 672,
     "metadata": {},
     "output_type": "execute_result"
    }
   ],
   "source": [
    "len(book)"
   ]
  },
  {
   "cell_type": "code",
   "execution_count": 673,
   "id": "b39a3e69",
   "metadata": {},
   "outputs": [],
   "source": [
    "moviedf,bookdf=movie,book"
   ]
  },
  {
   "cell_type": "code",
   "execution_count": null,
   "id": "8dcd04cd",
   "metadata": {},
   "outputs": [],
   "source": []
  },
  {
   "cell_type": "code",
   "execution_count": 14,
   "id": "34b387d9",
   "metadata": {},
   "outputs": [],
   "source": [
    "# moviedf=movie[['id','title', 'original_title', 'vote_average', 'vote_count','overview','tagline']]"
   ]
  },
  {
   "cell_type": "code",
   "execution_count": 15,
   "id": "9ff1f3fc",
   "metadata": {},
   "outputs": [],
   "source": [
    "# bookdf = book[['isbn13','title', 'categories', 'average_rating', 'ratings_count','description','authors']]"
   ]
  },
  {
   "cell_type": "code",
   "execution_count": 674,
   "id": "002eff67",
   "metadata": {},
   "outputs": [],
   "source": [
    "moviedf['content']='m'\n",
    "bookdf['content']='b'"
   ]
  },
  {
   "cell_type": "code",
   "execution_count": 247,
   "id": "b1928ea3",
   "metadata": {},
   "outputs": [],
   "source": [
    "# moviedf.columns=['id','title', 'genres', 'vote_average', 'vote_count','overview','keywords','label']\n",
    "# bookdf.columns =['id','title', 'genres', 'vote_average', 'vote_count','overview','keywords','label']"
   ]
  },
  {
   "cell_type": "code",
   "execution_count": 675,
   "id": "e9e6dd09",
   "metadata": {},
   "outputs": [],
   "source": [
    "del moviedf['Unnamed: 0']\n",
    "del bookdf['Unnamed: 0']"
   ]
  },
  {
   "cell_type": "code",
   "execution_count": 676,
   "id": "5e6209d0",
   "metadata": {},
   "outputs": [],
   "source": [
    "del bookdf['author']"
   ]
  },
  {
   "cell_type": "code",
   "execution_count": 636,
   "id": "f7836d04",
   "metadata": {},
   "outputs": [
    {
     "data": {
      "text/plain": [
       "600"
      ]
     },
     "execution_count": 636,
     "metadata": {},
     "output_type": "execute_result"
    }
   ],
   "source": [
    "len(bookdf)"
   ]
  },
  {
   "cell_type": "code",
   "execution_count": 678,
   "id": "9fa96e17",
   "metadata": {},
   "outputs": [
    {
     "data": {
      "text/html": [
       "<div>\n",
       "<style scoped>\n",
       "    .dataframe tbody tr th:only-of-type {\n",
       "        vertical-align: middle;\n",
       "    }\n",
       "\n",
       "    .dataframe tbody tr th {\n",
       "        vertical-align: top;\n",
       "    }\n",
       "\n",
       "    .dataframe thead th {\n",
       "        text-align: right;\n",
       "    }\n",
       "</style>\n",
       "<table border=\"1\" class=\"dataframe\">\n",
       "  <thead>\n",
       "    <tr style=\"text-align: right;\">\n",
       "      <th></th>\n",
       "      <th>title</th>\n",
       "      <th>plot</th>\n",
       "      <th>content</th>\n",
       "    </tr>\n",
       "  </thead>\n",
       "  <tbody>\n",
       "    <tr>\n",
       "      <th>0</th>\n",
       "      <td>스파이더맨: 노 웨이 홈</td>\n",
       "      <td>계략으로 세상에 정체가 탄로난 스파이더맨   하루 아침에 평범한 일상을 잃게 된...</td>\n",
       "      <td>m</td>\n",
       "    </tr>\n",
       "    <tr>\n",
       "      <th>1</th>\n",
       "      <td>아네트</td>\n",
       "      <td>예술가들의 도시   오페라 가수   꼬띠아르  스탠드업 코미디언   드라이버  첫눈...</td>\n",
       "      <td>m</td>\n",
       "    </tr>\n",
       "    <tr>\n",
       "      <th>2</th>\n",
       "      <td>학교 가는 길</td>\n",
       "      <td>전국 특수학교 재학생의 절반은 매일 왕복   거리를 통학하며 전쟁 같은 아침을 맞이...</td>\n",
       "      <td>m</td>\n",
       "    </tr>\n",
       "    <tr>\n",
       "      <th>3</th>\n",
       "      <td>학교 가는 길</td>\n",
       "      <td>아프가니스탄, 6살 소녀 박타이는 늘 그녀의 집 앞에서 책을 읽는 소년을 보고 자신...</td>\n",
       "      <td>m</td>\n",
       "    </tr>\n",
       "    <tr>\n",
       "      <th>4</th>\n",
       "      <td>쿠오바디스, 아이다</td>\n",
       "      <td>세르비아군이 마을을 공격하자 보스니아 사람들은 안전지역인   캠프로 피신한다. ...</td>\n",
       "      <td>m</td>\n",
       "    </tr>\n",
       "  </tbody>\n",
       "</table>\n",
       "</div>"
      ],
      "text/plain": [
       "           title                                               plot content\n",
       "0  스파이더맨: 노 웨이 홈    계략으로 세상에 정체가 탄로난 스파이더맨   하루 아침에 평범한 일상을 잃게 된...       m\n",
       "1            아네트  예술가들의 도시   오페라 가수   꼬띠아르  스탠드업 코미디언   드라이버  첫눈...       m\n",
       "2        학교 가는 길  전국 특수학교 재학생의 절반은 매일 왕복   거리를 통학하며 전쟁 같은 아침을 맞이...       m\n",
       "3        학교 가는 길  아프가니스탄, 6살 소녀 박타이는 늘 그녀의 집 앞에서 책을 읽는 소년을 보고 자신...       m\n",
       "4     쿠오바디스, 아이다    세르비아군이 마을을 공격하자 보스니아 사람들은 안전지역인   캠프로 피신한다. ...       m"
      ]
     },
     "execution_count": 678,
     "metadata": {},
     "output_type": "execute_result"
    }
   ],
   "source": [
    "moviedf.head()\n"
   ]
  },
  {
   "cell_type": "code",
   "execution_count": 609,
   "id": "56c401f7",
   "metadata": {},
   "outputs": [],
   "source": [
    "dd=datadf[:6000]"
   ]
  },
  {
   "cell_type": "code",
   "execution_count": 679,
   "id": "cbb4caf8",
   "metadata": {},
   "outputs": [],
   "source": [
    "dd=moviedf"
   ]
  },
  {
   "cell_type": "code",
   "execution_count": 680,
   "id": "b334fd6d",
   "metadata": {},
   "outputs": [],
   "source": [
    "\n",
    "for i in range(5900):\n",
    "    if dd['title'][i] == dd['title'][i+1]:\n",
    "            pl = dd['plot'][i]+dd['plot'][i+1]\n",
    "            dd['plot'][i+1]=pl\n",
    "            dd.drop(i,inplace=True)"
   ]
  },
  {
   "cell_type": "code",
   "execution_count": 681,
   "id": "e18006e5",
   "metadata": {},
   "outputs": [
    {
     "data": {
      "text/plain": [
       "5519"
      ]
     },
     "execution_count": 681,
     "metadata": {},
     "output_type": "execute_result"
    }
   ],
   "source": [
    "len(dd)"
   ]
  },
  {
   "cell_type": "code",
   "execution_count": 683,
   "id": "2c9552ee",
   "metadata": {},
   "outputs": [
    {
     "data": {
      "text/plain": [
       "600"
      ]
     },
     "execution_count": 683,
     "metadata": {},
     "output_type": "execute_result"
    }
   ],
   "source": [
    "len(bookdf)"
   ]
  },
  {
   "cell_type": "code",
   "execution_count": 684,
   "id": "fed92322",
   "metadata": {},
   "outputs": [],
   "source": [
    "bbb=bookdf"
   ]
  },
  {
   "cell_type": "code",
   "execution_count": 685,
   "id": "b0daaf0d",
   "metadata": {},
   "outputs": [
    {
     "data": {
      "text/plain": [
       "600"
      ]
     },
     "execution_count": 685,
     "metadata": {},
     "output_type": "execute_result"
    }
   ],
   "source": [
    "len(bbb)"
   ]
  },
  {
   "cell_type": "code",
   "execution_count": 686,
   "id": "e922193d",
   "metadata": {},
   "outputs": [],
   "source": [
    "for i in range(500):\n",
    "    if bbb['title'][i] == bbb['title'][i+1]:\n",
    "            pl = bbb['plot'][i]+bbb['plot'][i+1]\n",
    "            bbb['plot'][i+1]=pl\n",
    "            bbb.drop(i,inplace=True)"
   ]
  },
  {
   "cell_type": "code",
   "execution_count": 687,
   "id": "a355dabf",
   "metadata": {
    "scrolled": true
   },
   "outputs": [
    {
     "data": {
      "text/plain": [
       "413"
      ]
     },
     "execution_count": 687,
     "metadata": {},
     "output_type": "execute_result"
    }
   ],
   "source": [
    "len(bbb)"
   ]
  },
  {
   "cell_type": "code",
   "execution_count": 688,
   "id": "d9580872",
   "metadata": {},
   "outputs": [],
   "source": [
    "datadf=dd.append([bbb])"
   ]
  },
  {
   "cell_type": "code",
   "execution_count": 689,
   "id": "c882fa53",
   "metadata": {},
   "outputs": [
    {
     "data": {
      "text/plain": [
       "5932"
      ]
     },
     "execution_count": 689,
     "metadata": {},
     "output_type": "execute_result"
    }
   ],
   "source": [
    "len(datadf)"
   ]
  },
  {
   "cell_type": "code",
   "execution_count": null,
   "id": "b3075fe2",
   "metadata": {},
   "outputs": [],
   "source": []
  },
  {
   "cell_type": "code",
   "execution_count": 805,
   "id": "c0308bc5",
   "metadata": {},
   "outputs": [],
   "source": [
    "datadf.to_csv('./data/totallist.csv')"
   ]
  },
  {
   "cell_type": "code",
   "execution_count": 807,
   "id": "6825c31d",
   "metadata": {},
   "outputs": [
    {
     "data": {
      "text/plain": [
       "5913"
      ]
     },
     "execution_count": 807,
     "metadata": {},
     "output_type": "execute_result"
    }
   ],
   "source": [
    "len(datadf)"
   ]
  },
  {
   "cell_type": "code",
   "execution_count": 4,
   "id": "f2bc4c04",
   "metadata": {},
   "outputs": [],
   "source": [
    "datadf=pd.read_csv('./data/책영화리스트.csv',encoding='utf-8')"
   ]
  },
  {
   "cell_type": "code",
   "execution_count": 9,
   "id": "ed559a4d",
   "metadata": {},
   "outputs": [],
   "source": [
    "del datadf['Unnamed: 0']\n"
   ]
  },
  {
   "cell_type": "code",
   "execution_count": null,
   "id": "49cfe61b",
   "metadata": {},
   "outputs": [],
   "source": []
  },
  {
   "cell_type": "code",
   "execution_count": 141,
   "id": "76dbc700",
   "metadata": {},
   "outputs": [
    {
     "data": {
      "text/plain": [
       "(8183, 2)"
      ]
     },
     "execution_count": 141,
     "metadata": {},
     "output_type": "execute_result"
    }
   ],
   "source": [
    "datadf = datadf[datadf['plot'].notnull()].reset_index(drop=True)\n",
    "datadf.shape"
   ]
  },
  {
   "cell_type": "markdown",
   "id": "a03fe2d7",
   "metadata": {},
   "source": [
    "## 코사인유사도"
   ]
  },
  {
   "cell_type": "code",
   "execution_count": 8,
   "id": "a06a4352",
   "metadata": {},
   "outputs": [],
   "source": [
    "from sklearn.feature_extraction.text import TfidfVectorizer\n",
    "vect = TfidfVectorizer()"
   ]
  },
  {
   "cell_type": "code",
   "execution_count": 9,
   "id": "091ffd9e",
   "metadata": {},
   "outputs": [],
   "source": [
    "tfidf = TfidfVectorizer(stop_words='english')"
   ]
  },
  {
   "cell_type": "code",
   "execution_count": 10,
   "id": "8f761db6",
   "metadata": {},
   "outputs": [
    {
     "name": "stdout",
     "output_type": "stream",
     "text": [
      "(8183, 163167)\n"
     ]
    }
   ],
   "source": [
    "tfidf_matrix = tfidf.fit_transform(datadf['plot'])\n",
    "print(tfidf_matrix.shape)"
   ]
  },
  {
   "cell_type": "code",
   "execution_count": 11,
   "id": "d883e5be",
   "metadata": {},
   "outputs": [],
   "source": [
    "from sklearn.metrics.pairwise import cosine_similarity\n",
    "cosine_matrix = cosine_similarity(tfidf_matrix, tfidf_matrix)\n"
   ]
  },
  {
   "cell_type": "code",
   "execution_count": 12,
   "id": "129672c6",
   "metadata": {},
   "outputs": [
    {
     "data": {
      "text/plain": [
       "array([[1.    , 0.0028, 0.0019, ..., 0.005 , 0.0021, 0.0017],\n",
       "       [0.0028, 1.    , 0.0141, ..., 0.0201, 0.0104, 0.0026],\n",
       "       [0.0019, 0.0141, 1.    , ..., 0.    , 0.    , 0.0021],\n",
       "       ...,\n",
       "       [0.005 , 0.0201, 0.    , ..., 1.    , 0.0452, 0.006 ],\n",
       "       [0.0021, 0.0104, 0.    , ..., 0.0452, 1.    , 0.0154],\n",
       "       [0.0017, 0.0026, 0.0021, ..., 0.006 , 0.0154, 1.    ]])"
      ]
     },
     "execution_count": 12,
     "metadata": {},
     "output_type": "execute_result"
    }
   ],
   "source": [
    "np.round(cosine_matrix, 4)"
   ]
  },
  {
   "cell_type": "code",
   "execution_count": 13,
   "id": "bd045de5",
   "metadata": {},
   "outputs": [],
   "source": [
    "datadf.drop_duplicates(keep='first', inplace=True)"
   ]
  },
  {
   "cell_type": "code",
   "execution_count": 14,
   "id": "eac8a1ab",
   "metadata": {},
   "outputs": [],
   "source": [
    "datadf.columns=['title','plot']"
   ]
  },
  {
   "cell_type": "code",
   "execution_count": 15,
   "id": "08eab3db",
   "metadata": {},
   "outputs": [],
   "source": [
    "# movie title와 id를 매핑할 dictionary를 생성해줍니다. \n",
    "title2id = {}\n",
    "for i, c in enumerate(datadf['title']): title2id[i] = c\n",
    "\n",
    "# id와 movie title를 매핑할 dictionary를 생성해줍니다. \n",
    "id2title = {}\n",
    "for i, c in title2id.items(): id2title[c] = i"
   ]
  },
  {
   "cell_type": "code",
   "execution_count": 16,
   "id": "4c163056",
   "metadata": {
    "scrolled": true
   },
   "outputs": [
    {
     "data": {
      "text/plain": [
       "8183"
      ]
     },
     "execution_count": 16,
     "metadata": {},
     "output_type": "execute_result"
    }
   ],
   "source": [
    "len(title2id)"
   ]
  },
  {
   "cell_type": "code",
   "execution_count": 17,
   "id": "85c6c438",
   "metadata": {},
   "outputs": [],
   "source": [
    "df=datadf"
   ]
  },
  {
   "cell_type": "code",
   "execution_count": 96,
   "id": "6fa8aa0a",
   "metadata": {},
   "outputs": [],
   "source": [
    "goal='m쇼생크 탈출'\n",
    "idx = id2title[goal]\n",
    "goalcate=goal[0]"
   ]
  },
  {
   "cell_type": "code",
   "execution_count": 97,
   "id": "a6d99a50",
   "metadata": {},
   "outputs": [
    {
     "data": {
      "text/html": [
       "<div>\n",
       "<style scoped>\n",
       "    .dataframe tbody tr th:only-of-type {\n",
       "        vertical-align: middle;\n",
       "    }\n",
       "\n",
       "    .dataframe tbody tr th {\n",
       "        vertical-align: top;\n",
       "    }\n",
       "\n",
       "    .dataframe thead th {\n",
       "        text-align: right;\n",
       "    }\n",
       "</style>\n",
       "<table border=\"1\" class=\"dataframe\">\n",
       "  <thead>\n",
       "    <tr style=\"text-align: right;\">\n",
       "      <th></th>\n",
       "      <th>title</th>\n",
       "      <th>plot</th>\n",
       "    </tr>\n",
       "  </thead>\n",
       "  <tbody>\n",
       "    <tr>\n",
       "      <th>1347</th>\n",
       "      <td>m쇼생크 탈출</td>\n",
       "      <td>촉망 받던 은행 부지점장 ‘ 팀 로빈슨   아내와 그 애인을 살해한 혐의로 종신형을...</td>\n",
       "    </tr>\n",
       "  </tbody>\n",
       "</table>\n",
       "</div>"
      ],
      "text/plain": [
       "        title                                               plot\n",
       "1347  m쇼생크 탈출  촉망 받던 은행 부지점장 ‘ 팀 로빈슨   아내와 그 애인을 살해한 혐의로 종신형을..."
      ]
     },
     "execution_count": 97,
     "metadata": {},
     "output_type": "execute_result"
    }
   ],
   "source": [
    "df.loc[df['title'] ==goal]"
   ]
  },
  {
   "cell_type": "code",
   "execution_count": 98,
   "id": "2b85e527",
   "metadata": {},
   "outputs": [],
   "source": [
    "same_sim_scores=[]\n",
    "for i,c in enumerate(cosine_matrix[idx]):\n",
    "    if title2id[i][0] ==goalcate and i !=idx:\n",
    "        same_sim_scores.append((i,c))"
   ]
  },
  {
   "cell_type": "code",
   "execution_count": 99,
   "id": "15584161",
   "metadata": {},
   "outputs": [],
   "source": [
    "diff_sim_scores=[]\n",
    "for i,c in enumerate(cosine_matrix[idx]):\n",
    "    if title2id[i][0]!=goalcate:\n",
    "        diff_sim_scores.append((i,c))"
   ]
  },
  {
   "cell_type": "code",
   "execution_count": 100,
   "id": "f0ee7551",
   "metadata": {},
   "outputs": [],
   "source": [
    "same_sim_scores = sorted(same_sim_scores, key = lambda x: x[1], reverse=True)[0:15]\n",
    "diff_sim_scores = sorted(diff_sim_scores, key = lambda x: x[1], reverse=True)[0:15]\n",
    "same_result = [(title2id[i], score) for i, score in same_sim_scores]\n",
    "diff_result=[(title2id[i], score) for i, score in diff_sim_scores]\n",
    "same_result=pd.DataFrame(same_result)\n",
    "diff_result=pd.DataFrame(diff_result)\n",
    "same_result.columns=['title','similarity']\n",
    "diff_result.columns=['title','similarity']\n",
    "result=pd.concat([same_result,diff_result],axis=1)"
   ]
  },
  {
   "cell_type": "code",
   "execution_count": 101,
   "id": "7380eaad",
   "metadata": {},
   "outputs": [
    {
     "data": {
      "text/html": [
       "<div>\n",
       "<style scoped>\n",
       "    .dataframe tbody tr th:only-of-type {\n",
       "        vertical-align: middle;\n",
       "    }\n",
       "\n",
       "    .dataframe tbody tr th {\n",
       "        vertical-align: top;\n",
       "    }\n",
       "\n",
       "    .dataframe thead th {\n",
       "        text-align: right;\n",
       "    }\n",
       "</style>\n",
       "<table border=\"1\" class=\"dataframe\">\n",
       "  <thead>\n",
       "    <tr style=\"text-align: right;\">\n",
       "      <th></th>\n",
       "      <th>title</th>\n",
       "      <th>similarity</th>\n",
       "      <th>title</th>\n",
       "      <th>similarity</th>\n",
       "    </tr>\n",
       "  </thead>\n",
       "  <tbody>\n",
       "    <tr>\n",
       "      <th>0</th>\n",
       "      <td>m스틸워터</td>\n",
       "      <td>0.124372</td>\n",
       "      <td>b포</td>\n",
       "      <td>0.031878</td>\n",
       "    </tr>\n",
       "    <tr>\n",
       "      <th>1</th>\n",
       "      <td>m언디스퓨티드</td>\n",
       "      <td>0.119381</td>\n",
       "      <td>b좀머 씨 이야기</td>\n",
       "      <td>0.021789</td>\n",
       "    </tr>\n",
       "    <tr>\n",
       "      <th>2</th>\n",
       "      <td>m프리즈너</td>\n",
       "      <td>0.096173</td>\n",
       "      <td>b중용</td>\n",
       "      <td>0.021454</td>\n",
       "    </tr>\n",
       "    <tr>\n",
       "      <th>3</th>\n",
       "      <td>m빠삐용</td>\n",
       "      <td>0.078903</td>\n",
       "      <td>b파이트 클럽</td>\n",
       "      <td>0.020542</td>\n",
       "    </tr>\n",
       "    <tr>\n",
       "      <th>4</th>\n",
       "      <td>m화소도</td>\n",
       "      <td>0.067250</td>\n",
       "      <td>b경성기담</td>\n",
       "      <td>0.019365</td>\n",
       "    </tr>\n",
       "    <tr>\n",
       "      <th>5</th>\n",
       "      <td>m스타드 업</td>\n",
       "      <td>0.065875</td>\n",
       "      <td>b시민의 불복종</td>\n",
       "      <td>0.018303</td>\n",
       "    </tr>\n",
       "    <tr>\n",
       "      <th>6</th>\n",
       "      <td>m7번방의 선물</td>\n",
       "      <td>0.065400</td>\n",
       "      <td>b방드르디, 태평양의 끝</td>\n",
       "      <td>0.016091</td>\n",
       "    </tr>\n",
       "    <tr>\n",
       "      <th>7</th>\n",
       "      <td>m시저는 죽어야 한다</td>\n",
       "      <td>0.063457</td>\n",
       "      <td>b우리들의 행복한 시간</td>\n",
       "      <td>0.015527</td>\n",
       "    </tr>\n",
       "    <tr>\n",
       "      <th>8</th>\n",
       "      <td>m신북두신권</td>\n",
       "      <td>0.060560</td>\n",
       "      <td>b속죄</td>\n",
       "      <td>0.015526</td>\n",
       "    </tr>\n",
       "    <tr>\n",
       "      <th>9</th>\n",
       "      <td>m집으로 가는 길</td>\n",
       "      <td>0.057356</td>\n",
       "      <td>b13계단</td>\n",
       "      <td>0.015361</td>\n",
       "    </tr>\n",
       "    <tr>\n",
       "      <th>10</th>\n",
       "      <td>m친절한 금자씨</td>\n",
       "      <td>0.051117</td>\n",
       "      <td>b강의</td>\n",
       "      <td>0.015152</td>\n",
       "    </tr>\n",
       "    <tr>\n",
       "      <th>11</th>\n",
       "      <td>m프리즌</td>\n",
       "      <td>0.050903</td>\n",
       "      <td>b질투</td>\n",
       "      <td>0.014126</td>\n",
       "    </tr>\n",
       "    <tr>\n",
       "      <th>12</th>\n",
       "      <td>m컨빅션</td>\n",
       "      <td>0.050875</td>\n",
       "      <td>b가시고기</td>\n",
       "      <td>0.012995</td>\n",
       "    </tr>\n",
       "    <tr>\n",
       "      <th>13</th>\n",
       "      <td>m잭 리처: 네버 고 백</td>\n",
       "      <td>0.049506</td>\n",
       "      <td>b미드나잇 라이브러리</td>\n",
       "      <td>0.012988</td>\n",
       "    </tr>\n",
       "    <tr>\n",
       "      <th>14</th>\n",
       "      <td>m인디안 썸머</td>\n",
       "      <td>0.047713</td>\n",
       "      <td>b걸리버 여행기</td>\n",
       "      <td>0.012370</td>\n",
       "    </tr>\n",
       "  </tbody>\n",
       "</table>\n",
       "</div>"
      ],
      "text/plain": [
       "            title  similarity          title  similarity\n",
       "0           m스틸워터    0.124372             b포    0.031878\n",
       "1         m언디스퓨티드    0.119381      b좀머 씨 이야기    0.021789\n",
       "2           m프리즈너    0.096173            b중용    0.021454\n",
       "3            m빠삐용    0.078903        b파이트 클럽    0.020542\n",
       "4            m화소도    0.067250          b경성기담    0.019365\n",
       "5          m스타드 업    0.065875       b시민의 불복종    0.018303\n",
       "6        m7번방의 선물    0.065400  b방드르디, 태평양의 끝    0.016091\n",
       "7     m시저는 죽어야 한다    0.063457   b우리들의 행복한 시간    0.015527\n",
       "8          m신북두신권    0.060560            b속죄    0.015526\n",
       "9       m집으로 가는 길    0.057356          b13계단    0.015361\n",
       "10       m친절한 금자씨    0.051117            b강의    0.015152\n",
       "11           m프리즌    0.050903            b질투    0.014126\n",
       "12           m컨빅션    0.050875          b가시고기    0.012995\n",
       "13  m잭 리처: 네버 고 백    0.049506    b미드나잇 라이브러리    0.012988\n",
       "14        m인디안 썸머    0.047713       b걸리버 여행기    0.012370"
      ]
     },
     "execution_count": 101,
     "metadata": {},
     "output_type": "execute_result"
    }
   ],
   "source": [
    "result"
   ]
  },
  {
   "cell_type": "code",
   "execution_count": 51,
   "id": "88ce1cf3",
   "metadata": {},
   "outputs": [],
   "source": [
    "def get_ctt(goal):\n",
    "    idx = id2title[goal]\n",
    "    goalcate=goal[0]\n",
    "    same_sim_scores=[]\n",
    "    diff_sim_scores=[]\n",
    "    for i,c in enumerate(cosine_matrix[idx]):\n",
    "        if title2id[i][0] ==goalcate and i !=idx:\n",
    "            same_sim_scores.append((i,c))\n",
    "        if title2id[i][0]!=goalcate:\n",
    "            diff_sim_scores.append((i,c))\n",
    "    same_sim_scores = sorted(same_sim_scores, key = lambda x: x[1], reverse=True)[0:15]\n",
    "    diff_sim_scores = sorted(diff_sim_scores, key = lambda x: x[1], reverse=True)[0:15]\n",
    "    same_result = [(title2id[i], score) for i, score in same_sim_scores]\n",
    "    diff_result=[(title2id[i], score) for i, score in diff_sim_scores]\n",
    "    same_result=pd.DataFrame(same_result)\n",
    "    diff_result=pd.DataFrame(diff_result)\n",
    "    same_result.columns=['title','similarity']\n",
    "    diff_result.columns=['title','similarity']\n",
    "    result=pd.concat([same_result,diff_result],axis=1)\n",
    "    return diff_result"
   ]
  },
  {
   "cell_type": "code",
   "execution_count": 52,
   "id": "86fed838",
   "metadata": {},
   "outputs": [],
   "source": [
    "def get_ctt_b(goal):\n",
    "    idx = id2title[goal]\n",
    "    goalcate=goal[0]\n",
    "    same_sim_scores=[]\n",
    "    diff_sim_scores=[]\n",
    "    for i,c in enumerate(cosine_matrix[idx]):\n",
    "        if title2id[i][0] ==goalcate and i !=idx:\n",
    "            same_sim_scores.append((i,c))\n",
    "        if title2id[i][0]!=goalcate:\n",
    "            diff_sim_scores.append((i,c))\n",
    "    same_sim_scores = sorted(same_sim_scores, key = lambda x: x[1], reverse=True)[0:15]\n",
    "    diff_sim_scores = sorted(diff_sim_scores, key = lambda x: x[1], reverse=True)[0:15]\n",
    "    same_result = [(title2id[i], score) for i, score in same_sim_scores]\n",
    "    diff_result=[(title2id[i], score) for i, score in diff_sim_scores]\n",
    "    same_result=pd.DataFrame(same_result)\n",
    "    diff_result=pd.DataFrame(diff_result)\n",
    "    same_result.columns=['title','similarity']\n",
    "    diff_result.columns=['title','similarity']\n",
    "    result=pd.concat([same_result,diff_result],axis=1)\n",
    "    return same_result"
   ]
  },
  {
   "cell_type": "code",
   "execution_count": 53,
   "id": "63f4b10b",
   "metadata": {},
   "outputs": [],
   "source": [
    "def get_ans(user,book):\n",
    "    ans=newdf[['title',user]]\n",
    "    try:\n",
    "        res=ans[ans['title']==book].values[0][1]\n",
    "    except:\n",
    "        res=0\n",
    "    return res"
   ]
  },
  {
   "cell_type": "code",
   "execution_count": 54,
   "id": "d9bfa5c1",
   "metadata": {
    "scrolled": false
   },
   "outputs": [
    {
     "data": {
      "text/html": [
       "<div>\n",
       "<style scoped>\n",
       "    .dataframe tbody tr th:only-of-type {\n",
       "        vertical-align: middle;\n",
       "    }\n",
       "\n",
       "    .dataframe tbody tr th {\n",
       "        vertical-align: top;\n",
       "    }\n",
       "\n",
       "    .dataframe thead th {\n",
       "        text-align: right;\n",
       "    }\n",
       "</style>\n",
       "<table border=\"1\" class=\"dataframe\">\n",
       "  <thead>\n",
       "    <tr style=\"text-align: right;\">\n",
       "      <th></th>\n",
       "      <th>Unnamed: 0</th>\n",
       "      <th>userid</th>\n",
       "      <th>24BqEWE785rjn</th>\n",
       "      <th>2mwvg7EagvMa7</th>\n",
       "      <th>2mwvgaAjwxMa7</th>\n",
       "      <th>2mwvgbGLgqMa7</th>\n",
       "      <th>2mwvggAE2vMa7</th>\n",
       "      <th>2mwvgLpo25Ma7</th>\n",
       "      <th>2mwvgYmarxMa7</th>\n",
       "      <th>36lvX3jzZqXdn</th>\n",
       "      <th>...</th>\n",
       "      <th>ZBm5RNnk95d46</th>\n",
       "      <th>ZBm5RVn735d46</th>\n",
       "      <th>zNM5N1gz7v26j</th>\n",
       "      <th>zNM5NARwPGv26</th>\n",
       "      <th>ZWpqMaWa1qrkn</th>\n",
       "      <th>ZWpqMMERlqrkn</th>\n",
       "      <th>총합계</th>\n",
       "      <th>title</th>\n",
       "      <th>rating</th>\n",
       "      <th>vote_count</th>\n",
       "    </tr>\n",
       "  </thead>\n",
       "  <tbody>\n",
       "    <tr>\n",
       "      <th>0</th>\n",
       "      <td>0</td>\n",
       "      <td>newtitle</td>\n",
       "      <td>rating(합계)</td>\n",
       "      <td>NaN</td>\n",
       "      <td>NaN</td>\n",
       "      <td>NaN</td>\n",
       "      <td>NaN</td>\n",
       "      <td>NaN</td>\n",
       "      <td>NaN</td>\n",
       "      <td>NaN</td>\n",
       "      <td>...</td>\n",
       "      <td>NaN</td>\n",
       "      <td>NaN</td>\n",
       "      <td>NaN</td>\n",
       "      <td>NaN</td>\n",
       "      <td>NaN</td>\n",
       "      <td>NaN</td>\n",
       "      <td>NaN</td>\n",
       "      <td>NaN</td>\n",
       "      <td>NaN</td>\n",
       "      <td>NaN</td>\n",
       "    </tr>\n",
       "    <tr>\n",
       "      <th>1</th>\n",
       "      <td>1</td>\n",
       "      <td>b10 1/2장으로 쓴 세계 역사</td>\n",
       "      <td>NaN</td>\n",
       "      <td>NaN</td>\n",
       "      <td>NaN</td>\n",
       "      <td>NaN</td>\n",
       "      <td>NaN</td>\n",
       "      <td>NaN</td>\n",
       "      <td>NaN</td>\n",
       "      <td>NaN</td>\n",
       "      <td>...</td>\n",
       "      <td>NaN</td>\n",
       "      <td>NaN</td>\n",
       "      <td>NaN</td>\n",
       "      <td>NaN</td>\n",
       "      <td>NaN</td>\n",
       "      <td>NaN</td>\n",
       "      <td>4.0</td>\n",
       "      <td>b10 1/2장으로 쓴 세계 역사</td>\n",
       "      <td>4.0</td>\n",
       "      <td>1.0</td>\n",
       "    </tr>\n",
       "    <tr>\n",
       "      <th>2</th>\n",
       "      <td>2</td>\n",
       "      <td>b1001개의 거짓말</td>\n",
       "      <td>NaN</td>\n",
       "      <td>NaN</td>\n",
       "      <td>NaN</td>\n",
       "      <td>NaN</td>\n",
       "      <td>NaN</td>\n",
       "      <td>NaN</td>\n",
       "      <td>NaN</td>\n",
       "      <td>NaN</td>\n",
       "      <td>...</td>\n",
       "      <td>NaN</td>\n",
       "      <td>NaN</td>\n",
       "      <td>NaN</td>\n",
       "      <td>NaN</td>\n",
       "      <td>NaN</td>\n",
       "      <td>NaN</td>\n",
       "      <td>3.5</td>\n",
       "      <td>b1001개의 거짓말</td>\n",
       "      <td>3.5</td>\n",
       "      <td>1.0</td>\n",
       "    </tr>\n",
       "  </tbody>\n",
       "</table>\n",
       "<p>3 rows × 117 columns</p>\n",
       "</div>"
      ],
      "text/plain": [
       "   Unnamed: 0              userid 24BqEWE785rjn  2mwvg7EagvMa7  2mwvgaAjwxMa7  \\\n",
       "0           0            newtitle    rating(합계)            NaN            NaN   \n",
       "1           1  b10 1/2장으로 쓴 세계 역사           NaN            NaN            NaN   \n",
       "2           2         b1001개의 거짓말           NaN            NaN            NaN   \n",
       "\n",
       "   2mwvgbGLgqMa7  2mwvggAE2vMa7  2mwvgLpo25Ma7  2mwvgYmarxMa7  36lvX3jzZqXdn  \\\n",
       "0            NaN            NaN            NaN            NaN            NaN   \n",
       "1            NaN            NaN            NaN            NaN            NaN   \n",
       "2            NaN            NaN            NaN            NaN            NaN   \n",
       "\n",
       "   ...  ZBm5RNnk95d46  ZBm5RVn735d46  zNM5N1gz7v26j  zNM5NARwPGv26  \\\n",
       "0  ...            NaN            NaN            NaN            NaN   \n",
       "1  ...            NaN            NaN            NaN            NaN   \n",
       "2  ...            NaN            NaN            NaN            NaN   \n",
       "\n",
       "   ZWpqMaWa1qrkn  ZWpqMMERlqrkn  총합계               title  rating  vote_count  \n",
       "0            NaN            NaN  NaN                 NaN     NaN         NaN  \n",
       "1            NaN            NaN  4.0  b10 1/2장으로 쓴 세계 역사     4.0         1.0  \n",
       "2            NaN            NaN  3.5         b1001개의 거짓말     3.5         1.0  \n",
       "\n",
       "[3 rows x 117 columns]"
      ]
     },
     "execution_count": 54,
     "metadata": {},
     "output_type": "execute_result"
    }
   ],
   "source": [
    "newdf.head(3)"
   ]
  },
  {
   "cell_type": "code",
   "execution_count": 55,
   "id": "6fd6646d",
   "metadata": {},
   "outputs": [
    {
     "data": {
      "text/plain": [
       "'b아몬드'"
      ]
     },
     "execution_count": 55,
     "metadata": {},
     "output_type": "execute_result"
    }
   ],
   "source": [
    "newdf[newdf['title']=='b아몬드'].values[0][1]"
   ]
  },
  {
   "cell_type": "code",
   "execution_count": 56,
   "id": "8e8d6e0f",
   "metadata": {},
   "outputs": [],
   "source": [
    "def get_vtcnt(book):\n",
    "    ans=newdf[['title','vote_count']]\n",
    "    try:\n",
    "        res=ans[ans['title']==book].values[0][1]\n",
    "    except:\n",
    "        res=0\n",
    "    return res"
   ]
  },
  {
   "cell_type": "code",
   "execution_count": 57,
   "id": "e7e302f8",
   "metadata": {},
   "outputs": [],
   "source": [
    "def get_avg_rt(book):\n",
    "    ans=newdf[['title','rating']]\n",
    "    try:\n",
    "        res=ans[ans['title']==book].values[0][1]\n",
    "    except:\n",
    "        res=0\n",
    "    return res"
   ]
  },
  {
   "cell_type": "code",
   "execution_count": 58,
   "id": "37efe6e9",
   "metadata": {},
   "outputs": [],
   "source": [
    "search = goal"
   ]
  },
  {
   "cell_type": "code",
   "execution_count": 4,
   "id": "67264c7e",
   "metadata": {},
   "outputs": [],
   "source": [
    "content=[]\n",
    "for i in range(len(newdf)):\n",
    "    now = str(newdf['title'][i])\n",
    "    if now[0]=='b':\n",
    "        content.append('b')\n",
    "    elif now[0]=='m':\n",
    "        content.append('m')\n",
    "    else:\n",
    "        content.append('no')"
   ]
  },
  {
   "cell_type": "code",
   "execution_count": 5,
   "id": "9d810252",
   "metadata": {},
   "outputs": [],
   "source": [
    "newdf['content']=content"
   ]
  },
  {
   "cell_type": "code",
   "execution_count": 6,
   "id": "f2baee12",
   "metadata": {
    "scrolled": true
   },
   "outputs": [
    {
     "data": {
      "text/html": [
       "<div>\n",
       "<style scoped>\n",
       "    .dataframe tbody tr th:only-of-type {\n",
       "        vertical-align: middle;\n",
       "    }\n",
       "\n",
       "    .dataframe tbody tr th {\n",
       "        vertical-align: top;\n",
       "    }\n",
       "\n",
       "    .dataframe thead th {\n",
       "        text-align: right;\n",
       "    }\n",
       "</style>\n",
       "<table border=\"1\" class=\"dataframe\">\n",
       "  <thead>\n",
       "    <tr style=\"text-align: right;\">\n",
       "      <th></th>\n",
       "      <th>Unnamed: 0</th>\n",
       "      <th>userid</th>\n",
       "      <th>24BqEWE785rjn</th>\n",
       "      <th>2mwvg7EagvMa7</th>\n",
       "      <th>2mwvgaAjwxMa7</th>\n",
       "      <th>2mwvgbGLgqMa7</th>\n",
       "      <th>2mwvggAE2vMa7</th>\n",
       "      <th>2mwvgLpo25Ma7</th>\n",
       "      <th>2mwvgYmarxMa7</th>\n",
       "      <th>36lvX3jzZqXdn</th>\n",
       "      <th>...</th>\n",
       "      <th>ZBm5RVn735d46</th>\n",
       "      <th>zNM5N1gz7v26j</th>\n",
       "      <th>zNM5NARwPGv26</th>\n",
       "      <th>ZWpqMaWa1qrkn</th>\n",
       "      <th>ZWpqMMERlqrkn</th>\n",
       "      <th>총합계</th>\n",
       "      <th>title</th>\n",
       "      <th>rating</th>\n",
       "      <th>vote_count</th>\n",
       "      <th>content</th>\n",
       "    </tr>\n",
       "  </thead>\n",
       "  <tbody>\n",
       "    <tr>\n",
       "      <th>0</th>\n",
       "      <td>0</td>\n",
       "      <td>newtitle</td>\n",
       "      <td>rating(합계)</td>\n",
       "      <td>NaN</td>\n",
       "      <td>NaN</td>\n",
       "      <td>NaN</td>\n",
       "      <td>NaN</td>\n",
       "      <td>NaN</td>\n",
       "      <td>NaN</td>\n",
       "      <td>NaN</td>\n",
       "      <td>...</td>\n",
       "      <td>NaN</td>\n",
       "      <td>NaN</td>\n",
       "      <td>NaN</td>\n",
       "      <td>NaN</td>\n",
       "      <td>NaN</td>\n",
       "      <td>NaN</td>\n",
       "      <td>NaN</td>\n",
       "      <td>NaN</td>\n",
       "      <td>NaN</td>\n",
       "      <td>no</td>\n",
       "    </tr>\n",
       "    <tr>\n",
       "      <th>1</th>\n",
       "      <td>1</td>\n",
       "      <td>b10 1/2장으로 쓴 세계 역사</td>\n",
       "      <td>NaN</td>\n",
       "      <td>NaN</td>\n",
       "      <td>NaN</td>\n",
       "      <td>NaN</td>\n",
       "      <td>NaN</td>\n",
       "      <td>NaN</td>\n",
       "      <td>NaN</td>\n",
       "      <td>NaN</td>\n",
       "      <td>...</td>\n",
       "      <td>NaN</td>\n",
       "      <td>NaN</td>\n",
       "      <td>NaN</td>\n",
       "      <td>NaN</td>\n",
       "      <td>NaN</td>\n",
       "      <td>4.0</td>\n",
       "      <td>b10 1/2장으로 쓴 세계 역사</td>\n",
       "      <td>4.0</td>\n",
       "      <td>1.0</td>\n",
       "      <td>b</td>\n",
       "    </tr>\n",
       "    <tr>\n",
       "      <th>2</th>\n",
       "      <td>2</td>\n",
       "      <td>b1001개의 거짓말</td>\n",
       "      <td>NaN</td>\n",
       "      <td>NaN</td>\n",
       "      <td>NaN</td>\n",
       "      <td>NaN</td>\n",
       "      <td>NaN</td>\n",
       "      <td>NaN</td>\n",
       "      <td>NaN</td>\n",
       "      <td>NaN</td>\n",
       "      <td>...</td>\n",
       "      <td>NaN</td>\n",
       "      <td>NaN</td>\n",
       "      <td>NaN</td>\n",
       "      <td>NaN</td>\n",
       "      <td>NaN</td>\n",
       "      <td>3.5</td>\n",
       "      <td>b1001개의 거짓말</td>\n",
       "      <td>3.5</td>\n",
       "      <td>1.0</td>\n",
       "      <td>b</td>\n",
       "    </tr>\n",
       "    <tr>\n",
       "      <th>3</th>\n",
       "      <td>3</td>\n",
       "      <td>b11분</td>\n",
       "      <td>NaN</td>\n",
       "      <td>3.0</td>\n",
       "      <td>3.5</td>\n",
       "      <td>NaN</td>\n",
       "      <td>NaN</td>\n",
       "      <td>3.5</td>\n",
       "      <td>4.5</td>\n",
       "      <td>NaN</td>\n",
       "      <td>...</td>\n",
       "      <td>NaN</td>\n",
       "      <td>NaN</td>\n",
       "      <td>NaN</td>\n",
       "      <td>NaN</td>\n",
       "      <td>NaN</td>\n",
       "      <td>77.0</td>\n",
       "      <td>b11분</td>\n",
       "      <td>3.5</td>\n",
       "      <td>22.0</td>\n",
       "      <td>b</td>\n",
       "    </tr>\n",
       "    <tr>\n",
       "      <th>4</th>\n",
       "      <td>4</td>\n",
       "      <td>b13.67</td>\n",
       "      <td>NaN</td>\n",
       "      <td>NaN</td>\n",
       "      <td>NaN</td>\n",
       "      <td>NaN</td>\n",
       "      <td>NaN</td>\n",
       "      <td>NaN</td>\n",
       "      <td>4.0</td>\n",
       "      <td>NaN</td>\n",
       "      <td>...</td>\n",
       "      <td>NaN</td>\n",
       "      <td>NaN</td>\n",
       "      <td>NaN</td>\n",
       "      <td>NaN</td>\n",
       "      <td>NaN</td>\n",
       "      <td>42.5</td>\n",
       "      <td>b13.67</td>\n",
       "      <td>3.9</td>\n",
       "      <td>11.0</td>\n",
       "      <td>b</td>\n",
       "    </tr>\n",
       "  </tbody>\n",
       "</table>\n",
       "<p>5 rows × 118 columns</p>\n",
       "</div>"
      ],
      "text/plain": [
       "   Unnamed: 0              userid 24BqEWE785rjn  2mwvg7EagvMa7  2mwvgaAjwxMa7  \\\n",
       "0           0            newtitle    rating(합계)            NaN            NaN   \n",
       "1           1  b10 1/2장으로 쓴 세계 역사           NaN            NaN            NaN   \n",
       "2           2         b1001개의 거짓말           NaN            NaN            NaN   \n",
       "3           3                b11분           NaN            3.0            3.5   \n",
       "4           4              b13.67           NaN            NaN            NaN   \n",
       "\n",
       "   2mwvgbGLgqMa7  2mwvggAE2vMa7  2mwvgLpo25Ma7  2mwvgYmarxMa7  36lvX3jzZqXdn  \\\n",
       "0            NaN            NaN            NaN            NaN            NaN   \n",
       "1            NaN            NaN            NaN            NaN            NaN   \n",
       "2            NaN            NaN            NaN            NaN            NaN   \n",
       "3            NaN            NaN            3.5            4.5            NaN   \n",
       "4            NaN            NaN            NaN            4.0            NaN   \n",
       "\n",
       "   ...  ZBm5RVn735d46  zNM5N1gz7v26j  zNM5NARwPGv26  ZWpqMaWa1qrkn  \\\n",
       "0  ...            NaN            NaN            NaN            NaN   \n",
       "1  ...            NaN            NaN            NaN            NaN   \n",
       "2  ...            NaN            NaN            NaN            NaN   \n",
       "3  ...            NaN            NaN            NaN            NaN   \n",
       "4  ...            NaN            NaN            NaN            NaN   \n",
       "\n",
       "   ZWpqMMERlqrkn   총합계               title  rating  vote_count  content  \n",
       "0            NaN   NaN                 NaN     NaN         NaN       no  \n",
       "1            NaN   4.0  b10 1/2장으로 쓴 세계 역사     4.0         1.0        b  \n",
       "2            NaN   3.5         b1001개의 거짓말     3.5         1.0        b  \n",
       "3            NaN  77.0                b11분     3.5        22.0        b  \n",
       "4            NaN  42.5              b13.67     3.9        11.0        b  \n",
       "\n",
       "[5 rows x 118 columns]"
      ]
     },
     "execution_count": 6,
     "metadata": {},
     "output_type": "execute_result"
    }
   ],
   "source": [
    "newdf.head(5)"
   ]
  },
  {
   "cell_type": "code",
   "execution_count": 8,
   "id": "87eeab0b",
   "metadata": {},
   "outputs": [],
   "source": [
    "newdf.to_csv('./data/pivot_all.csv')"
   ]
  },
  {
   "cell_type": "code",
   "execution_count": 7,
   "id": "fec177af",
   "metadata": {},
   "outputs": [],
   "source": [
    "del newdf['Unnamed: 0']"
   ]
  },
  {
   "cell_type": "markdown",
   "id": "dc73150e",
   "metadata": {},
   "source": [
    "## Eval"
   ]
  },
  {
   "cell_type": "code",
   "execution_count": 43,
   "id": "34c810b4",
   "metadata": {},
   "outputs": [],
   "source": [
    "atitle2id = {}\n",
    "for i, c in enumerate(newdf['title']): atitle2id[i] = c\n",
    "\n",
    "# id와 movie title를 매핑할 dictionary를 생성해줍니다. \n",
    "aid2title = {}\n",
    "for i, c in atitle2id.items(): aid2title[c] = i"
   ]
  },
  {
   "cell_type": "code",
   "execution_count": 422,
   "id": "82c9e421",
   "metadata": {},
   "outputs": [],
   "source": [
    "def user_pref(user):\n",
    "    a=newdf[newdf[user]>=4.5].sort_values(by='rating', ascending=False).head(30)\n",
    "    a=a[['title','rating','vote_count','content']]\n",
    "    # m = 사용자가 평점 높게 준 영화 목록\n",
    "    m = a[a['content']=='m'].head(20)\n",
    "    m=m['title'].values\n",
    "    #각 영화와 유사도 높은 책 목록 구하기\n",
    "    rec_book=dict()\n",
    "    for movie in m:\n",
    "#         for i in range(10):\n",
    "#             book, sim = get_ctt(movie).iloc[0][0] , get_ctt(movie).iloc[0][1]\n",
    "#         for book in get_ctt(movie)['title'][:3]:\n",
    "        for book in get_ctt(movie)['title']:\n",
    "            if book not in rec_book:\n",
    "                rec_book[book]=1\n",
    "            elif book in rec_book:\n",
    "                rec_book[book]+=1\n",
    "    rec_book=pd.DataFrame.from_dict(rec_book,orient='index')\n",
    "    rec_book.columns=['sim']\n",
    "    ## 책 목록에 대하여 유저가 남긴 평점 구하기\n",
    "    return rec_book\n",
    "    \n",
    "    "
   ]
  },
  {
   "cell_type": "code",
   "execution_count": 423,
   "id": "ac96e19a",
   "metadata": {},
   "outputs": [],
   "source": [
    "def rmse(y,pred):\n",
    "    mse = mean_squared_error(y,pred)\n",
    "    return np.sqrt(mse)\n",
    "def mae(y,pred):\n",
    "    return mean_absolute_error(y,pred)\n",
    "def mape(y,pred):\n",
    "    return np.mean(np.abs((y-pred)/y)*100)"
   ]
  },
  {
   "cell_type": "code",
   "execution_count": 500,
   "id": "80130aab",
   "metadata": {},
   "outputs": [],
   "source": [
    "def user_pref_book(user,min_rt):\n",
    "    a=newdf[newdf[user]>=min_rt].sort_values(by='rating', ascending=False)\n",
    "    a=a[['title','rating','vote_count','content']]\n",
    "    # m = 사용자가 평점 높게 준 영화 목록\n",
    "    m = a[a['content']=='b']\n",
    "    m=m['title'].values\n",
    "    return m\n",
    "    \n",
    "    "
   ]
  },
  {
   "cell_type": "code",
   "execution_count": 188,
   "id": "7f1f8a09",
   "metadata": {},
   "outputs": [],
   "source": [
    "def weight(record):\n",
    "    v= record['vote_count']\n",
    "    R=record['avg_rating']\n",
    "    S=record['sim']\n",
    "    return ((v/(v+m))*R)+((m/(m+v))*C+(v/v+m)*S*0.05)\n"
   ]
  },
  {
   "cell_type": "code",
   "execution_count": 454,
   "id": "d0e7d22c",
   "metadata": {},
   "outputs": [],
   "source": [
    "user='36lvXmWQZ5Xdn'"
   ]
  },
  {
   "cell_type": "code",
   "execution_count": 455,
   "id": "a7453d88",
   "metadata": {},
   "outputs": [],
   "source": [
    "rec_book=user_pref(user)"
   ]
  },
  {
   "cell_type": "code",
   "execution_count": 456,
   "id": "6ef50205",
   "metadata": {},
   "outputs": [],
   "source": [
    "rats=[]\n",
    "vc=[]\n",
    "avg_rt=[]\n",
    "for i in range(len(rec_book)):\n",
    "    book = rec_book.index[i]\n",
    "    rat = get_ans(user,book)\n",
    "    vote= get_vtcnt(book)\n",
    "    avg_rating=get_avg_rt(book)\n",
    "    rats.append(rat)\n",
    "    vc.append(vote)\n",
    "    avg_rt.append(avg_rating)\n",
    "rec_book['user_rating']=rats\n",
    "rec_book['vote_count']=vc\n",
    "rec_book['avg_rating']=avg_rt\n",
    "\n",
    "rec_book=rec_book.fillna(0)"
   ]
  },
  {
   "cell_type": "markdown",
   "id": "1de5689f",
   "metadata": {},
   "source": [
    "## 평점 계산"
   ]
  },
  {
   "cell_type": "code",
   "execution_count": 457,
   "id": "e6beb363",
   "metadata": {},
   "outputs": [],
   "source": [
    "percentile=0.6\n",
    "m=rec_book['vote_count'].quantile(percentile)\n",
    "C=rec_book['avg_rating'].mean()\n",
    "rec_book['pred']=rec_book.apply(weight,axis=1)"
   ]
  },
  {
   "cell_type": "code",
   "execution_count": 458,
   "id": "34a63e37",
   "metadata": {},
   "outputs": [],
   "source": [
    "rec_book['pred']=rec_book.apply(weight,axis=1)"
   ]
  },
  {
   "cell_type": "code",
   "execution_count": 459,
   "id": "57f376d3",
   "metadata": {},
   "outputs": [
    {
     "data": {
      "text/html": [
       "<div>\n",
       "<style scoped>\n",
       "    .dataframe tbody tr th:only-of-type {\n",
       "        vertical-align: middle;\n",
       "    }\n",
       "\n",
       "    .dataframe tbody tr th {\n",
       "        vertical-align: top;\n",
       "    }\n",
       "\n",
       "    .dataframe thead th {\n",
       "        text-align: right;\n",
       "    }\n",
       "</style>\n",
       "<table border=\"1\" class=\"dataframe\">\n",
       "  <thead>\n",
       "    <tr style=\"text-align: right;\">\n",
       "      <th></th>\n",
       "      <th>sim</th>\n",
       "      <th>user_rating</th>\n",
       "      <th>vote_count</th>\n",
       "      <th>avg_rating</th>\n",
       "      <th>pred</th>\n",
       "    </tr>\n",
       "  </thead>\n",
       "  <tbody>\n",
       "    <tr>\n",
       "      <th>b나르치스와 골드문트</th>\n",
       "      <td>1</td>\n",
       "      <td>4.0</td>\n",
       "      <td>10.0</td>\n",
       "      <td>4.3</td>\n",
       "      <td>4.433000</td>\n",
       "    </tr>\n",
       "    <tr>\n",
       "      <th>b질투</th>\n",
       "      <td>1</td>\n",
       "      <td>4.0</td>\n",
       "      <td>3.0</td>\n",
       "      <td>3.3</td>\n",
       "      <td>3.930889</td>\n",
       "    </tr>\n",
       "    <tr>\n",
       "      <th>b빙점</th>\n",
       "      <td>1</td>\n",
       "      <td>4.0</td>\n",
       "      <td>5.0</td>\n",
       "      <td>4.3</td>\n",
       "      <td>4.334364</td>\n",
       "    </tr>\n",
       "    <tr>\n",
       "      <th>b1984</th>\n",
       "      <td>1</td>\n",
       "      <td>4.0</td>\n",
       "      <td>47.0</td>\n",
       "      <td>4.3</td>\n",
       "      <td>4.584491</td>\n",
       "    </tr>\n",
       "    <tr>\n",
       "      <th>b운명</th>\n",
       "      <td>2</td>\n",
       "      <td>4.0</td>\n",
       "      <td>7.0</td>\n",
       "      <td>3.9</td>\n",
       "      <td>4.517538</td>\n",
       "    </tr>\n",
       "    <tr>\n",
       "      <th>...</th>\n",
       "      <td>...</td>\n",
       "      <td>...</td>\n",
       "      <td>...</td>\n",
       "      <td>...</td>\n",
       "      <td>...</td>\n",
       "    </tr>\n",
       "    <tr>\n",
       "      <th>b네루다의 우편배달부</th>\n",
       "      <td>2</td>\n",
       "      <td>0.0</td>\n",
       "      <td>9.0</td>\n",
       "      <td>4.1</td>\n",
       "      <td>4.648533</td>\n",
       "    </tr>\n",
       "    <tr>\n",
       "      <th>b모렐의 발명</th>\n",
       "      <td>2</td>\n",
       "      <td>0.0</td>\n",
       "      <td>2.0</td>\n",
       "      <td>3.5</td>\n",
       "      <td>4.366000</td>\n",
       "    </tr>\n",
       "    <tr>\n",
       "      <th>b바리데기</th>\n",
       "      <td>1</td>\n",
       "      <td>0.0</td>\n",
       "      <td>17.0</td>\n",
       "      <td>3.3</td>\n",
       "      <td>3.759913</td>\n",
       "    </tr>\n",
       "    <tr>\n",
       "      <th>b송시열과 그들의 나라</th>\n",
       "      <td>1</td>\n",
       "      <td>0.0</td>\n",
       "      <td>1.0</td>\n",
       "      <td>3.5</td>\n",
       "      <td>4.039714</td>\n",
       "    </tr>\n",
       "    <tr>\n",
       "      <th>b사랑의 단상</th>\n",
       "      <td>1</td>\n",
       "      <td>0.0</td>\n",
       "      <td>5.0</td>\n",
       "      <td>4.3</td>\n",
       "      <td>4.334364</td>\n",
       "    </tr>\n",
       "  </tbody>\n",
       "</table>\n",
       "<p>225 rows × 5 columns</p>\n",
       "</div>"
      ],
      "text/plain": [
       "              sim  user_rating  vote_count  avg_rating      pred\n",
       "b나르치스와 골드문트     1          4.0        10.0         4.3  4.433000\n",
       "b질투             1          4.0         3.0         3.3  3.930889\n",
       "b빙점             1          4.0         5.0         4.3  4.334364\n",
       "b1984           1          4.0        47.0         4.3  4.584491\n",
       "b운명             2          4.0         7.0         3.9  4.517538\n",
       "...           ...          ...         ...         ...       ...\n",
       "b네루다의 우편배달부     2          0.0         9.0         4.1  4.648533\n",
       "b모렐의 발명         2          0.0         2.0         3.5  4.366000\n",
       "b바리데기           1          0.0        17.0         3.3  3.759913\n",
       "b송시열과 그들의 나라    1          0.0         1.0         3.5  4.039714\n",
       "b사랑의 단상         1          0.0         5.0         4.3  4.334364\n",
       "\n",
       "[225 rows x 5 columns]"
      ]
     },
     "execution_count": 459,
     "metadata": {},
     "output_type": "execute_result"
    }
   ],
   "source": [
    "rec_book.sort_values(by=['user_rating'],ascending=False)"
   ]
  },
  {
   "cell_type": "code",
   "execution_count": 460,
   "id": "e4a195cb",
   "metadata": {},
   "outputs": [],
   "source": [
    "rec_book=rec_book.fillna(0)"
   ]
  },
  {
   "cell_type": "code",
   "execution_count": 461,
   "id": "68ff4194",
   "metadata": {},
   "outputs": [],
   "source": [
    "user_rec=rec_book[rec_book['user_rating']>0]"
   ]
  },
  {
   "cell_type": "code",
   "execution_count": 501,
   "id": "eec76771",
   "metadata": {},
   "outputs": [],
   "source": [
    "min_rec=min(user_rec['user_rating'].values)"
   ]
  },
  {
   "cell_type": "code",
   "execution_count": 502,
   "id": "101a5f3d",
   "metadata": {},
   "outputs": [
    {
     "data": {
      "text/plain": [
       "3.0"
      ]
     },
     "execution_count": 502,
     "metadata": {},
     "output_type": "execute_result"
    }
   ],
   "source": [
    "min_rec"
   ]
  },
  {
   "cell_type": "code",
   "execution_count": 503,
   "id": "2228c449",
   "metadata": {},
   "outputs": [],
   "source": [
    "y=user_rec['user_rating']\n",
    "pred=user_rec['pred']"
   ]
  },
  {
   "cell_type": "code",
   "execution_count": 505,
   "id": "e4dd5299",
   "metadata": {},
   "outputs": [
    {
     "data": {
      "text/plain": [
       "122"
      ]
     },
     "execution_count": 505,
     "metadata": {},
     "output_type": "execute_result"
    }
   ],
   "source": [
    "#user가 4점 이상 준 모든 책\n",
    "user_4 = user_pref_book(user,min_rec)\n",
    "len(user_4)"
   ]
  },
  {
   "cell_type": "code",
   "execution_count": 516,
   "id": "d5c68c4a",
   "metadata": {},
   "outputs": [
    {
     "name": "stdout",
     "output_type": "stream",
     "text": [
      "RMSE :  0.7302932315465107\n",
      "MAE :  0.6238200742450035\n",
      "MAPE :  17.351182013494608\n",
      "Recall@K :  0.3442622950819672\n",
      "Precision@K :  0.18666666666666668\n"
     ]
    }
   ],
   "source": [
    "y=user_rec['user_rating']\n",
    "pred=user_rec['pred']\n",
    "user_like=len(user_rec)\n",
    "recal=user_like/len(user_4)\n",
    "prek=user_like/len(rec_book)\n",
    "print('RMSE : ', rmse(y,pred))\n",
    "print('MAE : ', mae(y,pred))\n",
    "print('MAPE : ', mape(y,pred))\n",
    "print('Recall@K : ', recal)\n",
    "print('Precision@K : ',prek)"
   ]
  },
  {
   "cell_type": "markdown",
   "id": "0323c8e0",
   "metadata": {},
   "source": [
    "## 책기반 책추천시스템\n"
   ]
  },
  {
   "cell_type": "code",
   "execution_count": 507,
   "id": "68470f6f",
   "metadata": {},
   "outputs": [],
   "source": [
    "def user_pref_b(user):\n",
    "    a=newdf[newdf[user]>=0].sort_values(by='rating', ascending=False)\n",
    "    a=a[['title','rating','vote_count','content']]\n",
    "    # m = 사용자가 평점 높게 준 영화 목록\n",
    "    m = a[a['content']=='b']\n",
    "    m=m['title'].values\n",
    "    #각 영화와 유사도 높은 책 목록 구하기\n",
    "    rec_book=dict()\n",
    "    for movie in m:\n",
    "        for book in get_ctt_b(movie)['title']:\n",
    "            if book not in rec_book:\n",
    "                rec_book[book]=1\n",
    "            elif book in rec_book:\n",
    "                rec_book[book]+=1\n",
    "    rec_book=pd.DataFrame.from_dict(rec_book,orient='index')\n",
    "    rec_book.columns=['sim']\n",
    "    ## 책 목록에 대하여 유저가 남긴 평점 구하기\n",
    "    return rec_book\n",
    "    "
   ]
  },
  {
   "cell_type": "code",
   "execution_count": 518,
   "id": "9404c545",
   "metadata": {},
   "outputs": [],
   "source": [
    "## 책함수채우기\n",
    "def book_fc(data):\n",
    "    rats=[]\n",
    "    vc=[]\n",
    "    avg_rt=[]\n",
    "    for i in range(len(data)):\n",
    "        book = data.index[i]\n",
    "        rat = get_ans(user,book)\n",
    "        vote= get_vtcnt(book)\n",
    "        avg_rating=get_avg_rt(book)\n",
    "        rats.append(rat)\n",
    "        vc.append(vote)\n",
    "        avg_rt.append(avg_rating)\n",
    "    data['user_rating']=rats\n",
    "    data['vote_count']=vc\n",
    "    data['avg_rating']=avg_rt\n",
    "    return data"
   ]
  },
  {
   "cell_type": "code",
   "execution_count": 519,
   "id": "cc1bb21c",
   "metadata": {},
   "outputs": [],
   "source": [
    "bbyb= user_pref_b(user)"
   ]
  },
  {
   "cell_type": "code",
   "execution_count": 520,
   "id": "b7e62908",
   "metadata": {},
   "outputs": [],
   "source": [
    "bbyb=book_fc(b_by_b)\n",
    "bbyb=bbyb.fillna(0)"
   ]
  },
  {
   "cell_type": "code",
   "execution_count": 521,
   "id": "5551019d",
   "metadata": {},
   "outputs": [],
   "source": [
    "percentile=0.6\n",
    "m=bbyb['vote_count'].quantile(percentile)\n",
    "C=bbyb['avg_rating'].mean()\n",
    "bbyb['pred']=bbyb.apply(weight,axis=1)"
   ]
  },
  {
   "cell_type": "code",
   "execution_count": 522,
   "id": "5bfe3981",
   "metadata": {},
   "outputs": [],
   "source": [
    "user_rec_b=bbyb[bbyb['user_rating']>0]"
   ]
  },
  {
   "cell_type": "code",
   "execution_count": 523,
   "id": "96019caf",
   "metadata": {},
   "outputs": [
    {
     "data": {
      "text/html": [
       "<div>\n",
       "<style scoped>\n",
       "    .dataframe tbody tr th:only-of-type {\n",
       "        vertical-align: middle;\n",
       "    }\n",
       "\n",
       "    .dataframe tbody tr th {\n",
       "        vertical-align: top;\n",
       "    }\n",
       "\n",
       "    .dataframe thead th {\n",
       "        text-align: right;\n",
       "    }\n",
       "</style>\n",
       "<table border=\"1\" class=\"dataframe\">\n",
       "  <thead>\n",
       "    <tr style=\"text-align: right;\">\n",
       "      <th></th>\n",
       "      <th>sim</th>\n",
       "      <th>user_rating</th>\n",
       "      <th>vote_count</th>\n",
       "      <th>avg_rating</th>\n",
       "      <th>pred</th>\n",
       "    </tr>\n",
       "  </thead>\n",
       "  <tbody>\n",
       "    <tr>\n",
       "      <th>b달과 6펜스</th>\n",
       "      <td>1</td>\n",
       "      <td>4.0</td>\n",
       "      <td>33.0</td>\n",
       "      <td>4.1</td>\n",
       "      <td>4.328919</td>\n",
       "    </tr>\n",
       "    <tr>\n",
       "      <th>b19호실로 가다</th>\n",
       "      <td>1</td>\n",
       "      <td>3.5</td>\n",
       "      <td>4.0</td>\n",
       "      <td>3.6</td>\n",
       "      <td>4.002500</td>\n",
       "    </tr>\n",
       "    <tr>\n",
       "      <th>b앵무새 죽이기</th>\n",
       "      <td>1</td>\n",
       "      <td>3.5</td>\n",
       "      <td>28.0</td>\n",
       "      <td>3.9</td>\n",
       "      <td>4.150625</td>\n",
       "    </tr>\n",
       "    <tr>\n",
       "      <th>b털없는 원숭이</th>\n",
       "      <td>1</td>\n",
       "      <td>3.5</td>\n",
       "      <td>1.0</td>\n",
       "      <td>3.5</td>\n",
       "      <td>4.074000</td>\n",
       "    </tr>\n",
       "    <tr>\n",
       "      <th>b클라라와 태양</th>\n",
       "      <td>1</td>\n",
       "      <td>3.5</td>\n",
       "      <td>7.0</td>\n",
       "      <td>3.5</td>\n",
       "      <td>3.897273</td>\n",
       "    </tr>\n",
       "    <tr>\n",
       "      <th>b생의 이면</th>\n",
       "      <td>1</td>\n",
       "      <td>4.0</td>\n",
       "      <td>9.0</td>\n",
       "      <td>4.2</td>\n",
       "      <td>4.359231</td>\n",
       "    </tr>\n",
       "  </tbody>\n",
       "</table>\n",
       "</div>"
      ],
      "text/plain": [
       "           sim  user_rating  vote_count  avg_rating      pred\n",
       "b달과 6펜스      1          4.0        33.0         4.1  4.328919\n",
       "b19호실로 가다    1          3.5         4.0         3.6  4.002500\n",
       "b앵무새 죽이기     1          3.5        28.0         3.9  4.150625\n",
       "b털없는 원숭이     1          3.5         1.0         3.5  4.074000\n",
       "b클라라와 태양     1          3.5         7.0         3.5  3.897273\n",
       "b생의 이면       1          4.0         9.0         4.2  4.359231"
      ]
     },
     "execution_count": 523,
     "metadata": {},
     "output_type": "execute_result"
    }
   ],
   "source": [
    "user_rec_b"
   ]
  },
  {
   "cell_type": "code",
   "execution_count": 524,
   "id": "a3bf678f",
   "metadata": {},
   "outputs": [
    {
     "name": "stdout",
     "output_type": "stream",
     "text": [
      "RMSE :  0.48310715878995764\n",
      "MAE :  0.4687579025704027\n",
      "MAPE :  12.983470020970023\n",
      "Recall@K :  0.04918032786885246\n",
      "Precision@K :  0.3\n"
     ]
    }
   ],
   "source": [
    "y=user_rec_b['user_rating']\n",
    "pred=user_rec_b['pred']\n",
    "user_like=len(user_rec_b)\n",
    "recal=user_like/len(user_4)\n",
    "prek=user_like/len(bbyb)\n",
    "print('RMSE : ', rmse(y,pred))\n",
    "print('MAE : ', mae(y,pred))\n",
    "print('MAPE : ', mape(y,pred))\n",
    "print('Recall@K : ', recal)\n",
    "print('Precision@K : ',prek)"
   ]
  },
  {
   "cell_type": "code",
   "execution_count": null,
   "id": "29ea8359",
   "metadata": {},
   "outputs": [],
   "source": []
  },
  {
   "cell_type": "code",
   "execution_count": null,
   "id": "26507f1a",
   "metadata": {},
   "outputs": [],
   "source": []
  }
 ],
 "metadata": {
  "kernelspec": {
   "display_name": "Python 3 (ipykernel)",
   "language": "python",
   "name": "python3"
  },
  "language_info": {
   "codemirror_mode": {
    "name": "ipython",
    "version": 3
   },
   "file_extension": ".py",
   "mimetype": "text/x-python",
   "name": "python",
   "nbconvert_exporter": "python",
   "pygments_lexer": "ipython3",
   "version": "3.9.1"
  }
 },
 "nbformat": 4,
 "nbformat_minor": 5
}
