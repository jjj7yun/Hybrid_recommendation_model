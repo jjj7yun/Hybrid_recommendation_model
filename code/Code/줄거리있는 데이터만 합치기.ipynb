{
 "cells": [
  {
   "cell_type": "code",
   "execution_count": 69,
   "id": "2834a297",
   "metadata": {},
   "outputs": [],
   "source": [
    "import pandas as pd\n",
    "\n",
    "import numpy as np\n",
    "import plotly.express as px\n",
    "import plotly.graph_objects as go\n",
    "import plotly.io as po\n",
    "\n",
    "import warnings\n",
    "\n",
    "warnings.filterwarnings('ignore')"
   ]
  },
  {
   "cell_type": "code",
   "execution_count": 70,
   "id": "09fdf443",
   "metadata": {},
   "outputs": [],
   "source": [
    "data = pd.read_csv('./data/왓챠평점.csv', encoding='utf-8', index_col=0)"
   ]
  },
  {
   "cell_type": "code",
   "execution_count": 71,
   "id": "ac8b6ee6",
   "metadata": {},
   "outputs": [
    {
     "data": {
      "text/html": [
       "<div>\n",
       "<style scoped>\n",
       "    .dataframe tbody tr th:only-of-type {\n",
       "        vertical-align: middle;\n",
       "    }\n",
       "\n",
       "    .dataframe tbody tr th {\n",
       "        vertical-align: top;\n",
       "    }\n",
       "\n",
       "    .dataframe thead th {\n",
       "        text-align: right;\n",
       "    }\n",
       "</style>\n",
       "<table border=\"1\" class=\"dataframe\">\n",
       "  <thead>\n",
       "    <tr style=\"text-align: right;\">\n",
       "      <th></th>\n",
       "      <th>filename</th>\n",
       "      <th>userid</th>\n",
       "      <th>title</th>\n",
       "      <th>rating</th>\n",
       "      <th>content</th>\n",
       "    </tr>\n",
       "  </thead>\n",
       "  <tbody>\n",
       "    <tr>\n",
       "      <th>687</th>\n",
       "      <td>2mwvg7EagvMa7:contents:books:ratings.xlsx</td>\n",
       "      <td>2mwvg7EagvMa7</td>\n",
       "      <td>불황의 경제학</td>\n",
       "      <td>평가함 ★ 3.5</td>\n",
       "      <td>books</td>\n",
       "    </tr>\n",
       "    <tr>\n",
       "      <th>688</th>\n",
       "      <td>2mwvg7EagvMa7:contents:books:ratings.xlsx</td>\n",
       "      <td>2mwvg7EagvMa7</td>\n",
       "      <td>어제까지의 세계</td>\n",
       "      <td>평가함 ★ 4.0</td>\n",
       "      <td>books</td>\n",
       "    </tr>\n",
       "    <tr>\n",
       "      <th>689</th>\n",
       "      <td>2mwvg7EagvMa7:contents:books:ratings.xlsx</td>\n",
       "      <td>2mwvg7EagvMa7</td>\n",
       "      <td>공정하다는 착각</td>\n",
       "      <td>평가함 ★ 4.5</td>\n",
       "      <td>books</td>\n",
       "    </tr>\n",
       "    <tr>\n",
       "      <th>690</th>\n",
       "      <td>2mwvg7EagvMa7:contents:books:ratings.xlsx</td>\n",
       "      <td>2mwvg7EagvMa7</td>\n",
       "      <td>에티카</td>\n",
       "      <td>평가함 ★ 3.5</td>\n",
       "      <td>books</td>\n",
       "    </tr>\n",
       "    <tr>\n",
       "      <th>691</th>\n",
       "      <td>2mwvg7EagvMa7:contents:books:ratings.xlsx</td>\n",
       "      <td>2mwvg7EagvMa7</td>\n",
       "      <td>차라투스트라는 이렇게 말했다</td>\n",
       "      <td>평가함 ★ 4.5</td>\n",
       "      <td>books</td>\n",
       "    </tr>\n",
       "  </tbody>\n",
       "</table>\n",
       "</div>"
      ],
      "text/plain": [
       "                                      filename         userid  \\\n",
       "687  2mwvg7EagvMa7:contents:books:ratings.xlsx  2mwvg7EagvMa7   \n",
       "688  2mwvg7EagvMa7:contents:books:ratings.xlsx  2mwvg7EagvMa7   \n",
       "689  2mwvg7EagvMa7:contents:books:ratings.xlsx  2mwvg7EagvMa7   \n",
       "690  2mwvg7EagvMa7:contents:books:ratings.xlsx  2mwvg7EagvMa7   \n",
       "691  2mwvg7EagvMa7:contents:books:ratings.xlsx  2mwvg7EagvMa7   \n",
       "\n",
       "               title     rating content  \n",
       "687          불황의 경제학  평가함 ★ 3.5   books  \n",
       "688         어제까지의 세계  평가함 ★ 4.0   books  \n",
       "689         공정하다는 착각  평가함 ★ 4.5   books  \n",
       "690              에티카  평가함 ★ 3.5   books  \n",
       "691  차라투스트라는 이렇게 말했다  평가함 ★ 4.5   books  "
      ]
     },
     "execution_count": 71,
     "metadata": {},
     "output_type": "execute_result"
    }
   ],
   "source": [
    "data.head()"
   ]
  },
  {
   "cell_type": "code",
   "execution_count": 72,
   "id": "74fabe66",
   "metadata": {},
   "outputs": [],
   "source": [
    "book=data[data['content']=='books']"
   ]
  },
  {
   "cell_type": "code",
   "execution_count": 73,
   "id": "4a19d055",
   "metadata": {},
   "outputs": [],
   "source": [
    "movie=data[data['content']=='movies']"
   ]
  },
  {
   "cell_type": "code",
   "execution_count": 74,
   "id": "3b890510",
   "metadata": {},
   "outputs": [
    {
     "data": {
      "text/plain": [
       "19121"
      ]
     },
     "execution_count": 74,
     "metadata": {},
     "output_type": "execute_result"
    }
   ],
   "source": [
    "len(movie)"
   ]
  },
  {
   "cell_type": "code",
   "execution_count": 75,
   "id": "624bf727",
   "metadata": {},
   "outputs": [],
   "source": [
    "book=movie"
   ]
  },
  {
   "cell_type": "code",
   "execution_count": 76,
   "id": "03ca09e8",
   "metadata": {},
   "outputs": [],
   "source": [
    "bdf =book.copy()"
   ]
  },
  {
   "cell_type": "code",
   "execution_count": 77,
   "id": "c7ba2767",
   "metadata": {},
   "outputs": [],
   "source": [
    "bdf=bdf[['title']]"
   ]
  },
  {
   "cell_type": "code",
   "execution_count": 78,
   "id": "609e6143",
   "metadata": {},
   "outputs": [],
   "source": [
    "bdf.drop_duplicates(keep='first', inplace=True)"
   ]
  },
  {
   "cell_type": "code",
   "execution_count": 79,
   "id": "02ef45d9",
   "metadata": {},
   "outputs": [
    {
     "data": {
      "text/plain": [
       "7329"
      ]
     },
     "execution_count": 79,
     "metadata": {},
     "output_type": "execute_result"
    }
   ],
   "source": [
    "len(bdf)"
   ]
  },
  {
   "cell_type": "code",
   "execution_count": 28,
   "id": "39a11863",
   "metadata": {},
   "outputs": [],
   "source": [
    "bdf.to_csv('./data/movielist.csv')"
   ]
  },
  {
   "cell_type": "code",
   "execution_count": 41,
   "id": "7ac11d0a",
   "metadata": {},
   "outputs": [
    {
     "data": {
      "text/html": [
       "<div>\n",
       "<style scoped>\n",
       "    .dataframe tbody tr th:only-of-type {\n",
       "        vertical-align: middle;\n",
       "    }\n",
       "\n",
       "    .dataframe tbody tr th {\n",
       "        vertical-align: top;\n",
       "    }\n",
       "\n",
       "    .dataframe thead th {\n",
       "        text-align: right;\n",
       "    }\n",
       "</style>\n",
       "<table border=\"1\" class=\"dataframe\">\n",
       "  <thead>\n",
       "    <tr style=\"text-align: right;\">\n",
       "      <th></th>\n",
       "      <th>title</th>\n",
       "    </tr>\n",
       "  </thead>\n",
       "  <tbody>\n",
       "    <tr>\n",
       "      <th>5334</th>\n",
       "      <td>스파이더맨: 노 웨이 홈</td>\n",
       "    </tr>\n",
       "    <tr>\n",
       "      <th>5335</th>\n",
       "      <td>아네트</td>\n",
       "    </tr>\n",
       "    <tr>\n",
       "      <th>5336</th>\n",
       "      <td>학교 가는 길</td>\n",
       "    </tr>\n",
       "    <tr>\n",
       "      <th>5337</th>\n",
       "      <td>쿠오바디스, 아이다</td>\n",
       "    </tr>\n",
       "    <tr>\n",
       "      <th>5338</th>\n",
       "      <td>자산어보</td>\n",
       "    </tr>\n",
       "    <tr>\n",
       "      <th>...</th>\n",
       "      <td>...</td>\n",
       "    </tr>\n",
       "    <tr>\n",
       "      <th>9818</th>\n",
       "      <td>바람의 검심 최종장 더 비기닝</td>\n",
       "    </tr>\n",
       "    <tr>\n",
       "      <th>9819</th>\n",
       "      <td>바람의 검심 : 전설의 최후편</td>\n",
       "    </tr>\n",
       "    <tr>\n",
       "      <th>9820</th>\n",
       "      <td>바람의 검심 : 교토 대화재편</td>\n",
       "    </tr>\n",
       "    <tr>\n",
       "      <th>9821</th>\n",
       "      <td>바람의 검심</td>\n",
       "    </tr>\n",
       "    <tr>\n",
       "      <th>9822</th>\n",
       "      <td>미친 한 페이지</td>\n",
       "    </tr>\n",
       "  </tbody>\n",
       "</table>\n",
       "<p>6868 rows × 1 columns</p>\n",
       "</div>"
      ],
      "text/plain": [
       "                 title\n",
       "5334     스파이더맨: 노 웨이 홈\n",
       "5335               아네트\n",
       "5336           학교 가는 길\n",
       "5337        쿠오바디스, 아이다\n",
       "5338              자산어보\n",
       "...                ...\n",
       "9818  바람의 검심 최종장 더 비기닝\n",
       "9819  바람의 검심 : 전설의 최후편\n",
       "9820  바람의 검심 : 교토 대화재편\n",
       "9821            바람의 검심\n",
       "9822          미친 한 페이지\n",
       "\n",
       "[6868 rows x 1 columns]"
      ]
     },
     "execution_count": 41,
     "metadata": {},
     "output_type": "execute_result"
    }
   ],
   "source": [
    "bdf"
   ]
  },
  {
   "cell_type": "code",
   "execution_count": null,
   "id": "090a48e8",
   "metadata": {},
   "outputs": [],
   "source": [
    "mcon.head()"
   ]
  },
  {
   "cell_type": "code",
   "execution_count": null,
   "id": "a0e2f9ee",
   "metadata": {},
   "outputs": [],
   "source": []
  },
  {
   "cell_type": "code",
   "execution_count": 36,
   "id": "df6a3ac5",
   "metadata": {},
   "outputs": [],
   "source": [
    "booklist=bdf"
   ]
  },
  {
   "cell_type": "code",
   "execution_count": 42,
   "id": "54d5a2e6",
   "metadata": {},
   "outputs": [],
   "source": [
    "movielist=bdf"
   ]
  },
  {
   "cell_type": "markdown",
   "id": "7469b8ff",
   "metadata": {},
   "source": [
    "mcon.head()"
   ]
  },
  {
   "cell_type": "code",
   "execution_count": 80,
   "id": "687a8f81",
   "metadata": {},
   "outputs": [],
   "source": [
    "mcon = pd.read_csv('./data/영화줄거리.csv')"
   ]
  },
  {
   "cell_type": "code",
   "execution_count": 81,
   "id": "6e06a726",
   "metadata": {},
   "outputs": [
    {
     "data": {
      "text/html": [
       "<div>\n",
       "<style scoped>\n",
       "    .dataframe tbody tr th:only-of-type {\n",
       "        vertical-align: middle;\n",
       "    }\n",
       "\n",
       "    .dataframe tbody tr th {\n",
       "        vertical-align: top;\n",
       "    }\n",
       "\n",
       "    .dataframe thead th {\n",
       "        text-align: right;\n",
       "    }\n",
       "</style>\n",
       "<table border=\"1\" class=\"dataframe\">\n",
       "  <thead>\n",
       "    <tr style=\"text-align: right;\">\n",
       "      <th></th>\n",
       "      <th>title</th>\n",
       "      <th>genre</th>\n",
       "      <th>year</th>\n",
       "      <th>date</th>\n",
       "      <th>rating</th>\n",
       "      <th>vote_count</th>\n",
       "      <th>plot</th>\n",
       "      <th>main_act</th>\n",
       "      <th>supp_act</th>\n",
       "      <th>page_url</th>\n",
       "      <th>img_url</th>\n",
       "      <th>keywords</th>\n",
       "      <th>plot_preprocessed_kmr</th>\n",
       "      <th>plot_preprocessed_kkma</th>\n",
       "    </tr>\n",
       "  </thead>\n",
       "  <tbody>\n",
       "    <tr>\n",
       "      <th>0</th>\n",
       "      <td>1917</td>\n",
       "      <td>드라마|전쟁</td>\n",
       "      <td>2020</td>\n",
       "      <td>2.19</td>\n",
       "      <td>8.88</td>\n",
       "      <td>5017</td>\n",
       "      <td>제1차 세계대전이 한창인 1917년. 독일군에 의해 모든 통신망이 파괴된 상황 속에...</td>\n",
       "      <td>조지 맥케이|딘-찰스 채프먼</td>\n",
       "      <td>콜린 퍼스|베네딕트 컴버배치|마크 스트롱|앤드류 스캇|리차드 매든|에드리언 스카보로...</td>\n",
       "      <td>https://movie.naver.com/movie/bi/mi/basic.nhn?...</td>\n",
       "      <td>https://movie-phinf.pstatic.net/20200212_161/1...</td>\n",
       "      <td>['영국군', '중령', '대전', '한창', '공격', '병사', '부대', '수...</td>\n",
       "      <td>세계 대전 한창 독일군 통신망 파괴 상황 속 영국군 병사 딘 찰스 미션 함정 영국군...</td>\n",
       "      <td>세계 대전 한창 독일군 모든 통신망 파괴 상황 속 영국군 병사 채프먼 하나 미션 함...</td>\n",
       "    </tr>\n",
       "    <tr>\n",
       "      <th>1</th>\n",
       "      <td>21 브릿지: 테러 셧다운</td>\n",
       "      <td>범죄|드라마|스릴러</td>\n",
       "      <td>2020</td>\n",
       "      <td>1.01</td>\n",
       "      <td>7.84</td>\n",
       "      <td>579</td>\n",
       "      <td>뉴욕 맨해튼 중심에서 벌어진 경찰 연쇄 살해 사건, 범인을 잡기 위해 베테랑 경찰 ...</td>\n",
       "      <td>채드윅 보스만|J.K. 시몬스|시에나 밀러|테일러 키취</td>\n",
       "      <td>스테판 제임스|빅토리아 카타게나|키스 데이빗|샤이나 라이언|알렉산더 시디그|모로코 ...</td>\n",
       "      <td>https://movie.naver.com/movie/bi/mi/basic.nhn?...</td>\n",
       "      <td>https://movie-phinf.pstatic.net/20191227_205/1...</td>\n",
       "      <td>['연쇄', '범인', '잡기', '베테랑', '사건', '수단', '방법', '극...</td>\n",
       "      <td>뉴욕 맨해튼 중심 경찰 연쇄 살해 사건 범인 잡기 베테랑 경찰 극단 조치 시간 수단...</td>\n",
       "      <td>뉴욕 맨해튼 중심 경찰 연쇄 살해 사건 범인 베테랑 경찰 극단 조치 시간 수단 방법 놈</td>\n",
       "    </tr>\n",
       "    <tr>\n",
       "      <th>2</th>\n",
       "      <td>n번째 이별중</td>\n",
       "      <td>코미디|멜로/로맨스</td>\n",
       "      <td>2020</td>\n",
       "      <td>4.01</td>\n",
       "      <td>6.48</td>\n",
       "      <td>177</td>\n",
       "      <td>여자친구 ‘데비’에게 대차게 차여 충격받은 물리학 천재 ‘스틸먼’. 사랑하는 그녀의...</td>\n",
       "      <td>에이사 버터필드|소피 터너|스카일러 거손도</td>\n",
       "      <td>오브리 레이놀즈|윌 펠츠|질리안 조이|케이든 J. 그레고리</td>\n",
       "      <td>https://movie.naver.com/movie/bi/mi/basic.nhn?...</td>\n",
       "      <td>https://movie-phinf.pstatic.net/20200409_56/15...</td>\n",
       "      <td>['사랑', '플로', '완벽', '가동', '후회', '천재', '충격', '물리...</td>\n",
       "      <td>여자친구 충격 물리학 천재 사랑 마음 두뇌 풀 가동 후회 순간 타임머신 을 개발 안...</td>\n",
       "      <td>여자 친구 차여 충격 물리학 천재 사랑 마음 두뇌 가동 후회 순간 타임머신 개발 때...</td>\n",
       "    </tr>\n",
       "    <tr>\n",
       "      <th>3</th>\n",
       "      <td>가슴 큰 태희</td>\n",
       "      <td>멜로/로맨스</td>\n",
       "      <td>2020</td>\n",
       "      <td>2.27</td>\n",
       "      <td>8.67</td>\n",
       "      <td>3</td>\n",
       "      <td>곧 결혼을 앞둔 예비 신혼 부부 차욱과 민주. 차욱은 직장 후배인 용우네 부부에게 ...</td>\n",
       "      <td>NaN</td>\n",
       "      <td>NaN</td>\n",
       "      <td>https://movie.naver.com/movie/bi/mi/basic.nhn?...</td>\n",
       "      <td>https://movie-phinf.pstatic.net/20200211_88/15...</td>\n",
       "      <td>['민주', '여행', '지연', '부부', '신혼', '제안', '사라', '예비...</td>\n",
       "      <td>결혼 예비 신혼 부부 차 민주 차 직장 후배 용 부부 커플 여행 제안 지연 불편 여...</td>\n",
       "      <td>결혼 예비 신혼 부부 차 과 민주 차 직장 후배 용 우 부부 커플 여행 제안 지연 ...</td>\n",
       "    </tr>\n",
       "    <tr>\n",
       "      <th>4</th>\n",
       "      <td>개인교습</td>\n",
       "      <td>멜로/로맨스</td>\n",
       "      <td>2020</td>\n",
       "      <td>3.02</td>\n",
       "      <td>10.00</td>\n",
       "      <td>1</td>\n",
       "      <td>부잣집 프랑스 아가씨 마고에게 첫눈에 반한 발리의 가난한 어부 에카는 그녀에게 피아...</td>\n",
       "      <td>하리 산티카|도르카스 카핀</td>\n",
       "      <td>NaN</td>\n",
       "      <td>https://movie.naver.com/movie/bi/mi/basic.nhn?...</td>\n",
       "      <td>https://movie-phinf.pstatic.net/20200226_62/15...</td>\n",
       "      <td>['첫눈', '피아노', '부잣집', '프랑스', '아가씨', '마고', '서로',...</td>\n",
       "      <td>부잣집 프랑스 아가씨 마고 첫눈 발리 가난 어부 에카 피아노 개인 교습 부탁 건반 ...</td>\n",
       "      <td>부잣집 프랑스 아가씨 마 첫눈 발리 가난 어부 카 피아노 개인 교습 부탁 건반 사람...</td>\n",
       "    </tr>\n",
       "    <tr>\n",
       "      <th>5</th>\n",
       "      <td>갱</td>\n",
       "      <td>액션</td>\n",
       "      <td>2020</td>\n",
       "      <td>1.16</td>\n",
       "      <td>5.99</td>\n",
       "      <td>105</td>\n",
       "      <td>교도소를 개조해 만든 국내 최악의 고등학교 ‘대훈고’ 그리고 그 곳에 온 강제전학생...</td>\n",
       "      <td>차지혁|조선기|옥윤중|백재민|김대한|이정현</td>\n",
       "      <td>김라희|송은석|진성|이재한|맹재렬|이채성|최준민|시윤|지남혁|임정옥|권오윤|김동우|...</td>\n",
       "      <td>https://movie.naver.com/movie/bi/mi/basic.nhn?...</td>\n",
       "      <td>https://movie-phinf.pstatic.net/20191115_141/1...</td>\n",
       "      <td>['개조', '국내', '학생', '강제', '전학생', '목표', '배틀', '시...</td>\n",
       "      <td>교도소 개조 국내 최악 고등학교 곳 강제 전학생 최지훈 목표 현실 종소리 매점 대신...</td>\n",
       "      <td>교도소 개조 국내 최악 고등 학교 곳 강제 전 학생 지 훈 목표 단 이 현실 종 소...</td>\n",
       "    </tr>\n",
       "    <tr>\n",
       "      <th>6</th>\n",
       "      <td>건즈 아킴보</td>\n",
       "      <td>액션</td>\n",
       "      <td>2020</td>\n",
       "      <td>4.15</td>\n",
       "      <td>6.39</td>\n",
       "      <td>173</td>\n",
       "      <td>낮엔 평범한 직장인, 밤엔 키보드 워리어 ‘마일즈’ 손가락 한번 잘못 놀렸다가 살인...</td>\n",
       "      <td>다니엘 래드클리프|사마라 위빙|네드 데네히|나타샤 류 보르디초</td>\n",
       "      <td>라이스 다비|재클린 리 거츠|콜린 모이</td>\n",
       "      <td>https://movie.naver.com/movie/bi/mi/basic.nhn?...</td>\n",
       "      <td>https://movie-phinf.pstatic.net/20200323_116/1...</td>\n",
       "      <td>['게임', '시작', '구역', '플레이어', '설상가상', '관람', '익스트림...</td>\n",
       "      <td>낮 직장인 밤 키보드 워리어 손가락 살인 미션 레알 목숨 개념 게임 양손 권총 게임...</td>\n",
       "      <td>낮 직장인 밤 키보드 손가락 살인 미션 레 목숨 신 개념 게임 양손 권총 게임 강제...</td>\n",
       "    </tr>\n",
       "    <tr>\n",
       "      <th>7</th>\n",
       "      <td>걸즈 앤 판처 제 63회 전차도 전국 고교생 대회</td>\n",
       "      <td>애니메이션</td>\n",
       "      <td>2020</td>\n",
       "      <td>4.09</td>\n",
       "      <td>4.67</td>\n",
       "      <td>3</td>\n",
       "      <td>여성의 소양 중 하나로 손꼽히며 전통적인 무예의 교양 활동인 전차도로 유명한 니시즈...</td>\n",
       "      <td>후치가미 마이|카야노 아이|오자키 마미|이구치 유카</td>\n",
       "      <td>NaN</td>\n",
       "      <td>https://movie.naver.com/movie/bi/mi/basic.nhn?...</td>\n",
       "      <td>https://movie-phinf.pstatic.net/20200330_55/15...</td>\n",
       "      <td>['전차', '참가', '전학', '도로', '교양', '활동', '폐교', '최종...</td>\n",
       "      <td>여성 소양 하나로 전통 무예 교양 활동 전차 도로 니 시즈 미 집안 전차 도가 아라...</td>\n",
       "      <td>여성 소양 전통적 무예 교양 활동 전차 도로 유명 시 미 집안 전차 라이 여 학원 ...</td>\n",
       "    </tr>\n",
       "    <tr>\n",
       "      <th>8</th>\n",
       "      <td>걸즈 앤 판처 최종장</td>\n",
       "      <td>애니메이션</td>\n",
       "      <td>2020</td>\n",
       "      <td>3.12</td>\n",
       "      <td>8.93</td>\n",
       "      <td>15</td>\n",
       "      <td>대학 선발팀과의 시합에서 우승하며 오아라이 여고를 폐교 위기에서 구해낸 미호와 전차...</td>\n",
       "      <td>후치가미 마이|카야노 아이|오자키 마미|이구치 유카|나카가미 이쿠미</td>\n",
       "      <td>NaN</td>\n",
       "      <td>https://movie.naver.com/movie/bi/mi/basic.nhn?...</td>\n",
       "      <td>https://movie-phinf.pstatic.net/20200303_117/1...</td>\n",
       "      <td>['모모', '아라이', '여고', '우승', '경기', '전차', '자유', '고...</td>\n",
       "      <td>대학 선발팀 시합 우승 아라이 여고 폐교 위기 미 전차 팀원 선배 모모 유급 소식 ...</td>\n",
       "      <td>대학 선발팀 시합 우승 라이 여고 폐교 위기 미 호 전차 팀원 선배 모 모의 유급 ...</td>\n",
       "    </tr>\n",
       "    <tr>\n",
       "      <th>9</th>\n",
       "      <td>걸즈 앤 판처 최종장 제1화</td>\n",
       "      <td>애니메이션|드라마</td>\n",
       "      <td>2020</td>\n",
       "      <td>1.08</td>\n",
       "      <td>8.67</td>\n",
       "      <td>42</td>\n",
       "      <td>대학 선발팀과의 시합에서 우승하며 오아라이 여고를 폐교 위기에서 구해낸 미호와 전차...</td>\n",
       "      <td>후치가미 마이|카야노 아이|이구치 유카|오자키 마미|나카가미 이쿠미</td>\n",
       "      <td>NaN</td>\n",
       "      <td>https://movie.naver.com/movie/bi/mi/basic.nhn?...</td>\n",
       "      <td>https://movie-phinf.pstatic.net/20191231_269/1...</td>\n",
       "      <td>['모모', '아라이', '여고', '우승', '경기', '전차', '자유', '고...</td>\n",
       "      <td>대학 선발팀 시합 우승 아라이 여고 폐교 위기 미 전차 팀원 선배 모모 유급 소식 ...</td>\n",
       "      <td>대학 선발팀 시합 우승 라이 여고 폐교 위기 미 호 전차 팀원 선배 모 모의 유급 ...</td>\n",
       "    </tr>\n",
       "  </tbody>\n",
       "</table>\n",
       "</div>"
      ],
      "text/plain": [
       "                         title       genre  year  date  rating  vote_count  \\\n",
       "0                         1917      드라마|전쟁  2020  2.19    8.88        5017   \n",
       "1               21 브릿지: 테러 셧다운  범죄|드라마|스릴러  2020  1.01    7.84         579   \n",
       "2                      n번째 이별중  코미디|멜로/로맨스  2020  4.01    6.48         177   \n",
       "3                      가슴 큰 태희      멜로/로맨스  2020  2.27    8.67           3   \n",
       "4                         개인교습      멜로/로맨스  2020  3.02   10.00           1   \n",
       "5                            갱          액션  2020  1.16    5.99         105   \n",
       "6                       건즈 아킴보          액션  2020  4.15    6.39         173   \n",
       "7  걸즈 앤 판처 제 63회 전차도 전국 고교생 대회       애니메이션  2020  4.09    4.67           3   \n",
       "8                  걸즈 앤 판처 최종장       애니메이션  2020  3.12    8.93          15   \n",
       "9              걸즈 앤 판처 최종장 제1화   애니메이션|드라마  2020  1.08    8.67          42   \n",
       "\n",
       "                                                plot  \\\n",
       "0  제1차 세계대전이 한창인 1917년. 독일군에 의해 모든 통신망이 파괴된 상황 속에...   \n",
       "1  뉴욕 맨해튼 중심에서 벌어진 경찰 연쇄 살해 사건, 범인을 잡기 위해 베테랑 경찰 ...   \n",
       "2  여자친구 ‘데비’에게 대차게 차여 충격받은 물리학 천재 ‘스틸먼’. 사랑하는 그녀의...   \n",
       "3  곧 결혼을 앞둔 예비 신혼 부부 차욱과 민주. 차욱은 직장 후배인 용우네 부부에게 ...   \n",
       "4  부잣집 프랑스 아가씨 마고에게 첫눈에 반한 발리의 가난한 어부 에카는 그녀에게 피아...   \n",
       "5  교도소를 개조해 만든 국내 최악의 고등학교 ‘대훈고’ 그리고 그 곳에 온 강제전학생...   \n",
       "6  낮엔 평범한 직장인, 밤엔 키보드 워리어 ‘마일즈’ 손가락 한번 잘못 놀렸다가 살인...   \n",
       "7  여성의 소양 중 하나로 손꼽히며 전통적인 무예의 교양 활동인 전차도로 유명한 니시즈...   \n",
       "8  대학 선발팀과의 시합에서 우승하며 오아라이 여고를 폐교 위기에서 구해낸 미호와 전차...   \n",
       "9  대학 선발팀과의 시합에서 우승하며 오아라이 여고를 폐교 위기에서 구해낸 미호와 전차...   \n",
       "\n",
       "                                main_act  \\\n",
       "0                        조지 맥케이|딘-찰스 채프먼   \n",
       "1         채드윅 보스만|J.K. 시몬스|시에나 밀러|테일러 키취   \n",
       "2                에이사 버터필드|소피 터너|스카일러 거손도   \n",
       "3                                    NaN   \n",
       "4                         하리 산티카|도르카스 카핀   \n",
       "5                차지혁|조선기|옥윤중|백재민|김대한|이정현   \n",
       "6     다니엘 래드클리프|사마라 위빙|네드 데네히|나타샤 류 보르디초   \n",
       "7           후치가미 마이|카야노 아이|오자키 마미|이구치 유카   \n",
       "8  후치가미 마이|카야노 아이|오자키 마미|이구치 유카|나카가미 이쿠미   \n",
       "9  후치가미 마이|카야노 아이|이구치 유카|오자키 마미|나카가미 이쿠미   \n",
       "\n",
       "                                            supp_act  \\\n",
       "0  콜린 퍼스|베네딕트 컴버배치|마크 스트롱|앤드류 스캇|리차드 매든|에드리언 스카보로...   \n",
       "1  스테판 제임스|빅토리아 카타게나|키스 데이빗|샤이나 라이언|알렉산더 시디그|모로코 ...   \n",
       "2                   오브리 레이놀즈|윌 펠츠|질리안 조이|케이든 J. 그레고리   \n",
       "3                                                NaN   \n",
       "4                                                NaN   \n",
       "5  김라희|송은석|진성|이재한|맹재렬|이채성|최준민|시윤|지남혁|임정옥|권오윤|김동우|...   \n",
       "6                              라이스 다비|재클린 리 거츠|콜린 모이   \n",
       "7                                                NaN   \n",
       "8                                                NaN   \n",
       "9                                                NaN   \n",
       "\n",
       "                                            page_url  \\\n",
       "0  https://movie.naver.com/movie/bi/mi/basic.nhn?...   \n",
       "1  https://movie.naver.com/movie/bi/mi/basic.nhn?...   \n",
       "2  https://movie.naver.com/movie/bi/mi/basic.nhn?...   \n",
       "3  https://movie.naver.com/movie/bi/mi/basic.nhn?...   \n",
       "4  https://movie.naver.com/movie/bi/mi/basic.nhn?...   \n",
       "5  https://movie.naver.com/movie/bi/mi/basic.nhn?...   \n",
       "6  https://movie.naver.com/movie/bi/mi/basic.nhn?...   \n",
       "7  https://movie.naver.com/movie/bi/mi/basic.nhn?...   \n",
       "8  https://movie.naver.com/movie/bi/mi/basic.nhn?...   \n",
       "9  https://movie.naver.com/movie/bi/mi/basic.nhn?...   \n",
       "\n",
       "                                             img_url  \\\n",
       "0  https://movie-phinf.pstatic.net/20200212_161/1...   \n",
       "1  https://movie-phinf.pstatic.net/20191227_205/1...   \n",
       "2  https://movie-phinf.pstatic.net/20200409_56/15...   \n",
       "3  https://movie-phinf.pstatic.net/20200211_88/15...   \n",
       "4  https://movie-phinf.pstatic.net/20200226_62/15...   \n",
       "5  https://movie-phinf.pstatic.net/20191115_141/1...   \n",
       "6  https://movie-phinf.pstatic.net/20200323_116/1...   \n",
       "7  https://movie-phinf.pstatic.net/20200330_55/15...   \n",
       "8  https://movie-phinf.pstatic.net/20200303_117/1...   \n",
       "9  https://movie-phinf.pstatic.net/20191231_269/1...   \n",
       "\n",
       "                                            keywords  \\\n",
       "0  ['영국군', '중령', '대전', '한창', '공격', '병사', '부대', '수...   \n",
       "1  ['연쇄', '범인', '잡기', '베테랑', '사건', '수단', '방법', '극...   \n",
       "2  ['사랑', '플로', '완벽', '가동', '후회', '천재', '충격', '물리...   \n",
       "3  ['민주', '여행', '지연', '부부', '신혼', '제안', '사라', '예비...   \n",
       "4  ['첫눈', '피아노', '부잣집', '프랑스', '아가씨', '마고', '서로',...   \n",
       "5  ['개조', '국내', '학생', '강제', '전학생', '목표', '배틀', '시...   \n",
       "6  ['게임', '시작', '구역', '플레이어', '설상가상', '관람', '익스트림...   \n",
       "7  ['전차', '참가', '전학', '도로', '교양', '활동', '폐교', '최종...   \n",
       "8  ['모모', '아라이', '여고', '우승', '경기', '전차', '자유', '고...   \n",
       "9  ['모모', '아라이', '여고', '우승', '경기', '전차', '자유', '고...   \n",
       "\n",
       "                               plot_preprocessed_kmr  \\\n",
       "0  세계 대전 한창 독일군 통신망 파괴 상황 속 영국군 병사 딘 찰스 미션 함정 영국군...   \n",
       "1  뉴욕 맨해튼 중심 경찰 연쇄 살해 사건 범인 잡기 베테랑 경찰 극단 조치 시간 수단...   \n",
       "2  여자친구 충격 물리학 천재 사랑 마음 두뇌 풀 가동 후회 순간 타임머신 을 개발 안...   \n",
       "3  결혼 예비 신혼 부부 차 민주 차 직장 후배 용 부부 커플 여행 제안 지연 불편 여...   \n",
       "4  부잣집 프랑스 아가씨 마고 첫눈 발리 가난 어부 에카 피아노 개인 교습 부탁 건반 ...   \n",
       "5  교도소 개조 국내 최악 고등학교 곳 강제 전학생 최지훈 목표 현실 종소리 매점 대신...   \n",
       "6  낮 직장인 밤 키보드 워리어 손가락 살인 미션 레알 목숨 개념 게임 양손 권총 게임...   \n",
       "7  여성 소양 하나로 전통 무예 교양 활동 전차 도로 니 시즈 미 집안 전차 도가 아라...   \n",
       "8  대학 선발팀 시합 우승 아라이 여고 폐교 위기 미 전차 팀원 선배 모모 유급 소식 ...   \n",
       "9  대학 선발팀 시합 우승 아라이 여고 폐교 위기 미 전차 팀원 선배 모모 유급 소식 ...   \n",
       "\n",
       "                              plot_preprocessed_kkma  \n",
       "0  세계 대전 한창 독일군 모든 통신망 파괴 상황 속 영국군 병사 채프먼 하나 미션 함...  \n",
       "1   뉴욕 맨해튼 중심 경찰 연쇄 살해 사건 범인 베테랑 경찰 극단 조치 시간 수단 방법 놈  \n",
       "2  여자 친구 차여 충격 물리학 천재 사랑 마음 두뇌 가동 후회 순간 타임머신 개발 때...  \n",
       "3  결혼 예비 신혼 부부 차 과 민주 차 직장 후배 용 우 부부 커플 여행 제안 지연 ...  \n",
       "4  부잣집 프랑스 아가씨 마 첫눈 발리 가난 어부 카 피아노 개인 교습 부탁 건반 사람...  \n",
       "5  교도소 개조 국내 최악 고등 학교 곳 강제 전 학생 지 훈 목표 단 이 현실 종 소...  \n",
       "6  낮 직장인 밤 키보드 손가락 살인 미션 레 목숨 신 개념 게임 양손 권총 게임 강제...  \n",
       "7  여성 소양 전통적 무예 교양 활동 전차 도로 유명 시 미 집안 전차 라이 여 학원 ...  \n",
       "8  대학 선발팀 시합 우승 라이 여고 폐교 위기 미 호 전차 팀원 선배 모 모의 유급 ...  \n",
       "9  대학 선발팀 시합 우승 라이 여고 폐교 위기 미 호 전차 팀원 선배 모 모의 유급 ...  "
      ]
     },
     "execution_count": 81,
     "metadata": {},
     "output_type": "execute_result"
    }
   ],
   "source": [
    "mcon.head(10)"
   ]
  },
  {
   "cell_type": "code",
   "execution_count": 82,
   "id": "4f18179d",
   "metadata": {},
   "outputs": [],
   "source": [
    "mc = pd.DataFrame(columns=(['title','desc']))"
   ]
  },
  {
   "cell_type": "code",
   "execution_count": 83,
   "id": "a1eb10fe",
   "metadata": {},
   "outputs": [],
   "source": [
    "mc['title']=mcon['title']\n",
    "mc['desc']=mcon['plot_preprocessed_kkma']"
   ]
  },
  {
   "cell_type": "code",
   "execution_count": 84,
   "id": "8df5d563",
   "metadata": {},
   "outputs": [
    {
     "data": {
      "text/html": [
       "<div>\n",
       "<style scoped>\n",
       "    .dataframe tbody tr th:only-of-type {\n",
       "        vertical-align: middle;\n",
       "    }\n",
       "\n",
       "    .dataframe tbody tr th {\n",
       "        vertical-align: top;\n",
       "    }\n",
       "\n",
       "    .dataframe thead th {\n",
       "        text-align: right;\n",
       "    }\n",
       "</style>\n",
       "<table border=\"1\" class=\"dataframe\">\n",
       "  <thead>\n",
       "    <tr style=\"text-align: right;\">\n",
       "      <th></th>\n",
       "      <th>title</th>\n",
       "      <th>desc</th>\n",
       "    </tr>\n",
       "  </thead>\n",
       "  <tbody>\n",
       "    <tr>\n",
       "      <th>0</th>\n",
       "      <td>1917</td>\n",
       "      <td>세계 대전 한창 독일군 모든 통신망 파괴 상황 속 영국군 병사 채프먼 하나 미션 함...</td>\n",
       "    </tr>\n",
       "    <tr>\n",
       "      <th>1</th>\n",
       "      <td>21 브릿지: 테러 셧다운</td>\n",
       "      <td>뉴욕 맨해튼 중심 경찰 연쇄 살해 사건 범인 베테랑 경찰 극단 조치 시간 수단 방법 놈</td>\n",
       "    </tr>\n",
       "    <tr>\n",
       "      <th>2</th>\n",
       "      <td>n번째 이별중</td>\n",
       "      <td>여자 친구 차여 충격 물리학 천재 사랑 마음 두뇌 가동 후회 순간 타임머신 개발 때...</td>\n",
       "    </tr>\n",
       "    <tr>\n",
       "      <th>3</th>\n",
       "      <td>가슴 큰 태희</td>\n",
       "      <td>결혼 예비 신혼 부부 차 과 민주 차 직장 후배 용 우 부부 커플 여행 제안 지연 ...</td>\n",
       "    </tr>\n",
       "    <tr>\n",
       "      <th>4</th>\n",
       "      <td>개인교습</td>\n",
       "      <td>부잣집 프랑스 아가씨 마 첫눈 발리 가난 어부 카 피아노 개인 교습 부탁 건반 사람...</td>\n",
       "    </tr>\n",
       "  </tbody>\n",
       "</table>\n",
       "</div>"
      ],
      "text/plain": [
       "            title                                               desc\n",
       "0            1917  세계 대전 한창 독일군 모든 통신망 파괴 상황 속 영국군 병사 채프먼 하나 미션 함...\n",
       "1  21 브릿지: 테러 셧다운   뉴욕 맨해튼 중심 경찰 연쇄 살해 사건 범인 베테랑 경찰 극단 조치 시간 수단 방법 놈\n",
       "2         n번째 이별중  여자 친구 차여 충격 물리학 천재 사랑 마음 두뇌 가동 후회 순간 타임머신 개발 때...\n",
       "3         가슴 큰 태희  결혼 예비 신혼 부부 차 과 민주 차 직장 후배 용 우 부부 커플 여행 제안 지연 ...\n",
       "4            개인교습  부잣집 프랑스 아가씨 마 첫눈 발리 가난 어부 카 피아노 개인 교습 부탁 건반 사람..."
      ]
     },
     "execution_count": 84,
     "metadata": {},
     "output_type": "execute_result"
    }
   ],
   "source": [
    "mc.head(5)"
   ]
  },
  {
   "cell_type": "code",
   "execution_count": 85,
   "id": "44fff16d",
   "metadata": {},
   "outputs": [
    {
     "data": {
      "text/plain": [
       "11951"
      ]
     },
     "execution_count": 85,
     "metadata": {},
     "output_type": "execute_result"
    }
   ],
   "source": [
    "len(mc)"
   ]
  },
  {
   "cell_type": "code",
   "execution_count": 86,
   "id": "34a90ef5",
   "metadata": {},
   "outputs": [
    {
     "data": {
      "text/plain": [
       "Index(['title'], dtype='object')"
      ]
     },
     "execution_count": 86,
     "metadata": {},
     "output_type": "execute_result"
    }
   ],
   "source": [
    "movielist.columns"
   ]
  },
  {
   "cell_type": "code",
   "execution_count": 87,
   "id": "a2764d41",
   "metadata": {},
   "outputs": [],
   "source": [
    "newmv=pd.merge(movielist,mc,how='inner',on='title')"
   ]
  },
  {
   "cell_type": "code",
   "execution_count": 88,
   "id": "ca8d97f8",
   "metadata": {},
   "outputs": [
    {
     "data": {
      "text/plain": [
       "6868"
      ]
     },
     "execution_count": 88,
     "metadata": {},
     "output_type": "execute_result"
    }
   ],
   "source": [
    "len(movielist)"
   ]
  },
  {
   "cell_type": "code",
   "execution_count": 89,
   "id": "5acf3281",
   "metadata": {},
   "outputs": [
    {
     "data": {
      "text/plain": [
       "18819"
      ]
     },
     "execution_count": 89,
     "metadata": {},
     "output_type": "execute_result"
    }
   ],
   "source": [
    "len(movielist)+len(mc)"
   ]
  },
  {
   "cell_type": "code",
   "execution_count": 90,
   "id": "394ca180",
   "metadata": {},
   "outputs": [
    {
     "data": {
      "text/plain": [
       "3871"
      ]
     },
     "execution_count": 90,
     "metadata": {},
     "output_type": "execute_result"
    }
   ],
   "source": [
    "len(newmv)"
   ]
  },
  {
   "cell_type": "code",
   "execution_count": 64,
   "id": "3a11a664",
   "metadata": {},
   "outputs": [
    {
     "data": {
      "text/html": [
       "<div>\n",
       "<style scoped>\n",
       "    .dataframe tbody tr th:only-of-type {\n",
       "        vertical-align: middle;\n",
       "    }\n",
       "\n",
       "    .dataframe tbody tr th {\n",
       "        vertical-align: top;\n",
       "    }\n",
       "\n",
       "    .dataframe thead th {\n",
       "        text-align: right;\n",
       "    }\n",
       "</style>\n",
       "<table border=\"1\" class=\"dataframe\">\n",
       "  <thead>\n",
       "    <tr style=\"text-align: right;\">\n",
       "      <th></th>\n",
       "      <th>title</th>\n",
       "      <th>desc</th>\n",
       "    </tr>\n",
       "  </thead>\n",
       "  <tbody>\n",
       "    <tr>\n",
       "      <th>0</th>\n",
       "      <td>학교 가는 길</td>\n",
       "      <td>니스 소녀 박 타이 집 앞 책 소년 자신 학교 이야기 결심 학교 연필 공책 필요 하...</td>\n",
       "    </tr>\n",
       "    <tr>\n",
       "      <th>1</th>\n",
       "      <td>사랑할 때 버려야 할 아까운 것들</td>\n",
       "      <td>여자 심플 만족감 느낌 세월 일 남자 마찬가지 여자 전문가 소 이유 동안 영계 부유...</td>\n",
       "    </tr>\n",
       "    <tr>\n",
       "      <th>2</th>\n",
       "      <td>달라스 바이어스 클럽</td>\n",
       "      <td>방탕 생활 로데오 전기 기술자 날 의사 에이즈 진단 시간 일 죽음 준비 은 치료제 ...</td>\n",
       "    </tr>\n",
       "    <tr>\n",
       "      <th>3</th>\n",
       "      <td>플로리다 프로젝트</td>\n",
       "      <td>안심 안전 플로리 디즈니 월드 건너편 꼬마 친구 디즈니 월드 무지개 어드벤처</td>\n",
       "    </tr>\n",
       "    <tr>\n",
       "      <th>4</th>\n",
       "      <td>밀정</td>\n",
       "      <td>일제 강점기 조선인 출신 일본 경찰 이정 은 무장 독립운동 단체 의열단 뒤 특명 의...</td>\n",
       "    </tr>\n",
       "  </tbody>\n",
       "</table>\n",
       "</div>"
      ],
      "text/plain": [
       "                title                                               desc\n",
       "0             학교 가는 길  니스 소녀 박 타이 집 앞 책 소년 자신 학교 이야기 결심 학교 연필 공책 필요 하...\n",
       "1  사랑할 때 버려야 할 아까운 것들  여자 심플 만족감 느낌 세월 일 남자 마찬가지 여자 전문가 소 이유 동안 영계 부유...\n",
       "2         달라스 바이어스 클럽  방탕 생활 로데오 전기 기술자 날 의사 에이즈 진단 시간 일 죽음 준비 은 치료제 ...\n",
       "3           플로리다 프로젝트         안심 안전 플로리 디즈니 월드 건너편 꼬마 친구 디즈니 월드 무지개 어드벤처\n",
       "4                  밀정  일제 강점기 조선인 출신 일본 경찰 이정 은 무장 독립운동 단체 의열단 뒤 특명 의..."
      ]
     },
     "execution_count": 64,
     "metadata": {},
     "output_type": "execute_result"
    }
   ],
   "source": [
    "newmv.head()"
   ]
  },
  {
   "cell_type": "code",
   "execution_count": 65,
   "id": "1699297f",
   "metadata": {},
   "outputs": [],
   "source": [
    "newmv.to_csv('영화합친거_줄거리평점.csv')"
   ]
  },
  {
   "cell_type": "code",
   "execution_count": null,
   "id": "e47c6a60",
   "metadata": {},
   "outputs": [],
   "source": []
  }
 ],
 "metadata": {
  "kernelspec": {
   "display_name": "Python 3 (ipykernel)",
   "language": "python",
   "name": "python3"
  },
  "language_info": {
   "codemirror_mode": {
    "name": "ipython",
    "version": 3
   },
   "file_extension": ".py",
   "mimetype": "text/x-python",
   "name": "python",
   "nbconvert_exporter": "python",
   "pygments_lexer": "ipython3",
   "version": "3.9.7"
  }
 },
 "nbformat": 4,
 "nbformat_minor": 5
}
